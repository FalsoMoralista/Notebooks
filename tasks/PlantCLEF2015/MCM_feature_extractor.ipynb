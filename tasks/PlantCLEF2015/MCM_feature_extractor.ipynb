{
  "nbformat": 4,
  "nbformat_minor": 0,
  "metadata": {
    "colab": {
      "name": "MCM_feature_extractor.ipynb",
      "provenance": [],
      "collapsed_sections": []
    },
    "kernelspec": {
      "name": "python3",
      "display_name": "Python 3"
    },
    "language_info": {
      "name": "python"
    },
    "accelerator": "TPU"
  },
  "cells": [
    {
      "cell_type": "code",
      "metadata": {
        "colab": {
          "base_uri": "https://localhost:8080/"
        },
        "id": "XtzF_VdqxSYv",
        "outputId": "cd2ecfc4-101f-48fe-8962-97f07e8e6e95"
      },
      "source": [
        "%matplotlib inline\n",
        "import matplotlib.pyplot as plt\n",
        "#import os; os.environ['KERAS_BACKEND'] = 'theano'\n",
        "import tensorflow as tf\n",
        "import numpy as np\n",
        "import os\n",
        "#os.environ['KMP_DUPLICATE_LIB_OK']='True'\n",
        "import pandas as pd\n",
        "import PIL\n",
        "from PIL import Image as im\n",
        "print(tf.__version__)\n",
        "#import tensorflow_addons as tfa\n",
        "#print(tfa.__version__)\n",
        "import pickle\n",
        "import random\n",
        "\n",
        "from matplotlib import image\n",
        "import cv2\n",
        "from tensorflow.keras.optimizers import Adam\n",
        "\n",
        "from tensorflow import keras\n",
        "from tensorflow.keras import layers\n",
        "#tf.compat.v1.disable_eager_execution()\n",
        "print(tf.executing_eagerly())"
      ],
      "execution_count": 1,
      "outputs": [
        {
          "output_type": "stream",
          "text": [
            "2.5.0\n",
            "True\n"
          ],
          "name": "stdout"
        }
      ]
    },
    {
      "cell_type": "code",
      "metadata": {
        "id": "j_TWBzJ-LJeE"
      },
      "source": [
        "!pip install tensorflow-addons"
      ],
      "execution_count": null,
      "outputs": []
    },
    {
      "cell_type": "code",
      "metadata": {
        "id": "zQze3a8MtMC7",
        "colab": {
          "base_uri": "https://localhost:8080/"
        },
        "outputId": "fcf8dc67-d4ac-449f-b3ce-dff747b5472b"
      },
      "source": [
        "try:\n",
        "  tpu = tf.distribute.cluster_resolver.TPUClusterResolver()  # TPU detection\n",
        "  print('Running on TPU ', tpu.cluster_spec().as_dict()['worker'])\n",
        "except ValueError:\n",
        "  raise BaseException('ERROR: Not connected to a TPU runtime; please see the previous cell in this notebook for instructions!')\n",
        "\n",
        "tf.config.experimental_connect_to_cluster(tpu)\n",
        "tf.tpu.experimental.initialize_tpu_system(tpu)\n",
        "tpu_strategy = tf.distribute.TPUStrategy(tpu)"
      ],
      "execution_count": 2,
      "outputs": [
        {
          "output_type": "stream",
          "text": [
            "Running on TPU  ['10.108.238.114:8470']\n",
            "INFO:tensorflow:Initializing the TPU system: grpc://10.108.238.114:8470\n"
          ],
          "name": "stdout"
        },
        {
          "output_type": "stream",
          "text": [
            "INFO:tensorflow:Initializing the TPU system: grpc://10.108.238.114:8470\n"
          ],
          "name": "stderr"
        },
        {
          "output_type": "stream",
          "text": [
            "INFO:tensorflow:Clearing out eager caches\n"
          ],
          "name": "stdout"
        },
        {
          "output_type": "stream",
          "text": [
            "INFO:tensorflow:Clearing out eager caches\n"
          ],
          "name": "stderr"
        },
        {
          "output_type": "stream",
          "text": [
            "INFO:tensorflow:Finished initializing TPU system.\n"
          ],
          "name": "stdout"
        },
        {
          "output_type": "stream",
          "text": [
            "INFO:tensorflow:Finished initializing TPU system.\n"
          ],
          "name": "stderr"
        },
        {
          "output_type": "stream",
          "text": [
            "INFO:tensorflow:Found TPU system:\n"
          ],
          "name": "stdout"
        },
        {
          "output_type": "stream",
          "text": [
            "INFO:tensorflow:Found TPU system:\n"
          ],
          "name": "stderr"
        },
        {
          "output_type": "stream",
          "text": [
            "INFO:tensorflow:*** Num TPU Cores: 8\n"
          ],
          "name": "stdout"
        },
        {
          "output_type": "stream",
          "text": [
            "INFO:tensorflow:*** Num TPU Cores: 8\n"
          ],
          "name": "stderr"
        },
        {
          "output_type": "stream",
          "text": [
            "INFO:tensorflow:*** Num TPU Workers: 1\n"
          ],
          "name": "stdout"
        },
        {
          "output_type": "stream",
          "text": [
            "INFO:tensorflow:*** Num TPU Workers: 1\n"
          ],
          "name": "stderr"
        },
        {
          "output_type": "stream",
          "text": [
            "INFO:tensorflow:*** Num TPU Cores Per Worker: 8\n"
          ],
          "name": "stdout"
        },
        {
          "output_type": "stream",
          "text": [
            "INFO:tensorflow:*** Num TPU Cores Per Worker: 8\n"
          ],
          "name": "stderr"
        },
        {
          "output_type": "stream",
          "text": [
            "INFO:tensorflow:*** Available Device: _DeviceAttributes(/job:localhost/replica:0/task:0/device:CPU:0, CPU, 0, 0)\n"
          ],
          "name": "stdout"
        },
        {
          "output_type": "stream",
          "text": [
            "INFO:tensorflow:*** Available Device: _DeviceAttributes(/job:localhost/replica:0/task:0/device:CPU:0, CPU, 0, 0)\n"
          ],
          "name": "stderr"
        },
        {
          "output_type": "stream",
          "text": [
            "INFO:tensorflow:*** Available Device: _DeviceAttributes(/job:worker/replica:0/task:0/device:CPU:0, CPU, 0, 0)\n"
          ],
          "name": "stdout"
        },
        {
          "output_type": "stream",
          "text": [
            "INFO:tensorflow:*** Available Device: _DeviceAttributes(/job:worker/replica:0/task:0/device:CPU:0, CPU, 0, 0)\n"
          ],
          "name": "stderr"
        },
        {
          "output_type": "stream",
          "text": [
            "INFO:tensorflow:*** Available Device: _DeviceAttributes(/job:worker/replica:0/task:0/device:TPU:0, TPU, 0, 0)\n"
          ],
          "name": "stdout"
        },
        {
          "output_type": "stream",
          "text": [
            "INFO:tensorflow:*** Available Device: _DeviceAttributes(/job:worker/replica:0/task:0/device:TPU:0, TPU, 0, 0)\n"
          ],
          "name": "stderr"
        },
        {
          "output_type": "stream",
          "text": [
            "INFO:tensorflow:*** Available Device: _DeviceAttributes(/job:worker/replica:0/task:0/device:TPU:1, TPU, 0, 0)\n"
          ],
          "name": "stdout"
        },
        {
          "output_type": "stream",
          "text": [
            "INFO:tensorflow:*** Available Device: _DeviceAttributes(/job:worker/replica:0/task:0/device:TPU:1, TPU, 0, 0)\n"
          ],
          "name": "stderr"
        },
        {
          "output_type": "stream",
          "text": [
            "INFO:tensorflow:*** Available Device: _DeviceAttributes(/job:worker/replica:0/task:0/device:TPU:2, TPU, 0, 0)\n"
          ],
          "name": "stdout"
        },
        {
          "output_type": "stream",
          "text": [
            "INFO:tensorflow:*** Available Device: _DeviceAttributes(/job:worker/replica:0/task:0/device:TPU:2, TPU, 0, 0)\n"
          ],
          "name": "stderr"
        },
        {
          "output_type": "stream",
          "text": [
            "INFO:tensorflow:*** Available Device: _DeviceAttributes(/job:worker/replica:0/task:0/device:TPU:3, TPU, 0, 0)\n"
          ],
          "name": "stdout"
        },
        {
          "output_type": "stream",
          "text": [
            "INFO:tensorflow:*** Available Device: _DeviceAttributes(/job:worker/replica:0/task:0/device:TPU:3, TPU, 0, 0)\n"
          ],
          "name": "stderr"
        },
        {
          "output_type": "stream",
          "text": [
            "INFO:tensorflow:*** Available Device: _DeviceAttributes(/job:worker/replica:0/task:0/device:TPU:4, TPU, 0, 0)\n"
          ],
          "name": "stdout"
        },
        {
          "output_type": "stream",
          "text": [
            "INFO:tensorflow:*** Available Device: _DeviceAttributes(/job:worker/replica:0/task:0/device:TPU:4, TPU, 0, 0)\n"
          ],
          "name": "stderr"
        },
        {
          "output_type": "stream",
          "text": [
            "INFO:tensorflow:*** Available Device: _DeviceAttributes(/job:worker/replica:0/task:0/device:TPU:5, TPU, 0, 0)\n"
          ],
          "name": "stdout"
        },
        {
          "output_type": "stream",
          "text": [
            "INFO:tensorflow:*** Available Device: _DeviceAttributes(/job:worker/replica:0/task:0/device:TPU:5, TPU, 0, 0)\n"
          ],
          "name": "stderr"
        },
        {
          "output_type": "stream",
          "text": [
            "INFO:tensorflow:*** Available Device: _DeviceAttributes(/job:worker/replica:0/task:0/device:TPU:6, TPU, 0, 0)\n"
          ],
          "name": "stdout"
        },
        {
          "output_type": "stream",
          "text": [
            "INFO:tensorflow:*** Available Device: _DeviceAttributes(/job:worker/replica:0/task:0/device:TPU:6, TPU, 0, 0)\n"
          ],
          "name": "stderr"
        },
        {
          "output_type": "stream",
          "text": [
            "INFO:tensorflow:*** Available Device: _DeviceAttributes(/job:worker/replica:0/task:0/device:TPU:7, TPU, 0, 0)\n"
          ],
          "name": "stdout"
        },
        {
          "output_type": "stream",
          "text": [
            "INFO:tensorflow:*** Available Device: _DeviceAttributes(/job:worker/replica:0/task:0/device:TPU:7, TPU, 0, 0)\n"
          ],
          "name": "stderr"
        },
        {
          "output_type": "stream",
          "text": [
            "INFO:tensorflow:*** Available Device: _DeviceAttributes(/job:worker/replica:0/task:0/device:TPU_SYSTEM:0, TPU_SYSTEM, 0, 0)\n"
          ],
          "name": "stdout"
        },
        {
          "output_type": "stream",
          "text": [
            "INFO:tensorflow:*** Available Device: _DeviceAttributes(/job:worker/replica:0/task:0/device:TPU_SYSTEM:0, TPU_SYSTEM, 0, 0)\n"
          ],
          "name": "stderr"
        },
        {
          "output_type": "stream",
          "text": [
            "INFO:tensorflow:*** Available Device: _DeviceAttributes(/job:worker/replica:0/task:0/device:XLA_CPU:0, XLA_CPU, 0, 0)\n"
          ],
          "name": "stdout"
        },
        {
          "output_type": "stream",
          "text": [
            "INFO:tensorflow:*** Available Device: _DeviceAttributes(/job:worker/replica:0/task:0/device:XLA_CPU:0, XLA_CPU, 0, 0)\n"
          ],
          "name": "stderr"
        }
      ]
    },
    {
      "cell_type": "code",
      "metadata": {
        "colab": {
          "base_uri": "https://localhost:8080/"
        },
        "id": "R8UP5B37zXxj",
        "outputId": "e504673e-c608-4945-d3f4-84f49225e32a"
      },
      "source": [
        "from google.colab import drive\n",
        "#drive.flush_and_unmount()\n",
        "drive.mount('/content/gdrive')\n",
        "!ls \"gdrive/My Drive/\""
      ],
      "execution_count": 3,
      "outputs": [
        {
          "output_type": "stream",
          "text": [
            "Mounted at /content/gdrive\n",
            "'Colab Notebooks'\t  LifeCLEF2015Plant   tf_issue\n",
            " ImageCLEF2013PlantTask   models\t      tutorial\n"
          ],
          "name": "stdout"
        }
      ]
    },
    {
      "cell_type": "code",
      "metadata": {
        "id": "CFWKYyfn7Twi",
        "colab": {
          "base_uri": "https://localhost:8080/"
        },
        "outputId": "c6ee8439-2e7a-40e5-d9de-990aaf500ffb"
      },
      "source": [
        "#!gcloud auth activate-service-account --help\n",
        "!gcloud init\n",
        "#!gcloud auth login"
      ],
      "execution_count": 4,
      "outputs": [
        {
          "output_type": "stream",
          "text": [
            "Welcome! This command will take you through the configuration of gcloud.\n",
            "\n",
            "Settings from your current configuration [default] are:\n",
            "component_manager:\n",
            "  disable_update_check: 'True'\n",
            "compute:\n",
            "  gce_metadata_read_timeout_sec: '0'\n",
            "\n",
            "Pick configuration to use:\n",
            " [1] Re-initialize this configuration [default] with new settings \n",
            " [2] Create a new configuration\n",
            "Please enter your numeric choice:  1\n",
            "\n",
            "Your current configuration has been set to: [default]\n",
            "\n",
            "You can skip diagnostics next time by using the following flag:\n",
            "  gcloud init --skip-diagnostics\n",
            "\n",
            "Network diagnostic detects and fixes local network connection issues.\n",
            "Reachability Check passed.\n",
            "Network diagnostic passed (1/1 checks passed).\n",
            "\n",
            "You must log in to continue. Would you like to log in (Y/n)?  y\n",
            "\n",
            "Go to the following link in your browser:\n",
            "\n",
            "    https://accounts.google.com/o/oauth2/auth?response_type=code&client_id=32555940559.apps.googleusercontent.com&redirect_uri=urn%3Aietf%3Awg%3Aoauth%3A2.0%3Aoob&scope=openid+https%3A%2F%2Fwww.googleapis.com%2Fauth%2Fuserinfo.email+https%3A%2F%2Fwww.googleapis.com%2Fauth%2Fcloud-platform+https%3A%2F%2Fwww.googleapis.com%2Fauth%2Fappengine.admin+https%3A%2F%2Fwww.googleapis.com%2Fauth%2Fcompute+https%3A%2F%2Fwww.googleapis.com%2Fauth%2Faccounts.reauth&state=9t5eWQRDmR0bjRdGZVHiP3huWU39Ni&prompt=consent&access_type=offline&code_challenge=7tOnVmp-PG3LClAaBTvK2NI-cr_rOwvC6dohcaFDEis&code_challenge_method=S256\n",
            "\n",
            "Enter verification code: 4/1AX4XfWh2pmKXW1w5hxNsEUN2IT1EtZrqMEhwAP5cLx8NRWAyB8sJQLmknBc\n",
            "You are logged in as: [lucianoadfilho@ecomp.uefs.br].\n",
            "\n",
            "Pick cloud project to use: \n",
            " [1] clef-2015\n",
            " [2] deep-features\n",
            " [3] plucky-cargo-245915\n",
            " [4] symmetric-index-321213\n",
            " [5] Create a new project\n",
            "Please enter numeric choice or text value (must exactly match list \n",
            "item):  3\n",
            "\n",
            "Your current project has been set to: [plucky-cargo-245915].\n",
            "\n",
            "Do you want to configure a default Compute Region and Zone? (Y/n)?  y\n",
            "\n",
            "Which Google Compute Engine zone would you like to use as project \n",
            "default?\n",
            "If you do not specify a zone via a command line flag while working \n",
            "with Compute Engine resources, the default is assumed.\n",
            " [1] us-east1-b\n",
            " [2] us-east1-c\n",
            " [3] us-east1-d\n",
            " [4] us-east4-c\n",
            " [5] us-east4-b\n",
            " [6] us-east4-a\n",
            " [7] us-central1-c\n",
            " [8] us-central1-a\n",
            " [9] us-central1-f\n",
            " [10] us-central1-b\n",
            " [11] us-west1-b\n",
            " [12] us-west1-c\n",
            " [13] us-west1-a\n",
            " [14] europe-west4-a\n",
            " [15] europe-west4-b\n",
            " [16] europe-west4-c\n",
            " [17] europe-west1-b\n",
            " [18] europe-west1-d\n",
            " [19] europe-west1-c\n",
            " [20] europe-west3-c\n",
            " [21] europe-west3-a\n",
            " [22] europe-west3-b\n",
            " [23] europe-west2-c\n",
            " [24] europe-west2-b\n",
            " [25] europe-west2-a\n",
            " [26] asia-east1-b\n",
            " [27] asia-east1-a\n",
            " [28] asia-east1-c\n",
            " [29] asia-southeast1-b\n",
            " [30] asia-southeast1-a\n",
            " [31] asia-southeast1-c\n",
            " [32] asia-northeast1-b\n",
            " [33] asia-northeast1-c\n",
            " [34] asia-northeast1-a\n",
            " [35] asia-south1-c\n",
            " [36] asia-south1-b\n",
            " [37] asia-south1-a\n",
            " [38] australia-southeast1-b\n",
            " [39] australia-southeast1-c\n",
            " [40] australia-southeast1-a\n",
            " [41] southamerica-east1-b\n",
            " [42] southamerica-east1-c\n",
            " [43] southamerica-east1-a\n",
            " [44] asia-east2-a\n",
            " [45] asia-east2-b\n",
            " [46] asia-east2-c\n",
            " [47] asia-northeast2-a\n",
            " [48] asia-northeast2-b\n",
            " [49] asia-northeast2-c\n",
            " [50] asia-northeast3-a\n",
            "Did not print [36] options.\n",
            "Too many options [86]. Enter \"list\" at prompt to print choices fully.\n",
            "Please enter numeric choice or text value (must exactly match list \n",
            "item):  8\n",
            "\n",
            "Your project default Compute Engine zone has been set to [us-central1-a].\n",
            "You can change it by running [gcloud config set compute/zone NAME].\n",
            "\n",
            "Your project default Compute Engine region has been set to [us-central1].\n",
            "You can change it by running [gcloud config set compute/region NAME].\n",
            "\n",
            "Your Google Cloud SDK is configured and ready to use!\n",
            "\n",
            "* Commands that require authentication will use lucianoadfilho@ecomp.uefs.br by default\n",
            "* Commands will reference project `plucky-cargo-245915` by default\n",
            "* Compute Engine commands will use region `us-central1` by default\n",
            "* Compute Engine commands will use zone `us-central1-a` by default\n",
            "\n",
            "Run `gcloud help config` to learn how to change individual settings\n",
            "\n",
            "This gcloud configuration is called [default]. You can create additional configurations if you work with multiple accounts and/or projects.\n",
            "Run `gcloud topic configurations` to learn more.\n",
            "\n",
            "Some things to try next:\n",
            "\n",
            "* Run `gcloud --help` to see the Cloud Platform services you can interact with. And run `gcloud help COMMAND` to get help on any gcloud command.\n",
            "* Run `gcloud topic --help` to learn about advanced features of the SDK like arg files and output formatting\n"
          ],
          "name": "stdout"
        }
      ]
    },
    {
      "cell_type": "code",
      "metadata": {
        "id": "x3Sz-Cbf5-fr"
      },
      "source": [
        "#!gsutil cp -r 'gdrive/MyDrive/LifeCLEF2015Plant' gs://clef_2015_tfrecords "
      ],
      "execution_count": null,
      "outputs": []
    },
    {
      "cell_type": "code",
      "metadata": {
        "id": "NpxGVD-cvl4Q"
      },
      "source": [
        "!rm -rf '/cache/'"
      ],
      "execution_count": null,
      "outputs": []
    },
    {
      "cell_type": "code",
      "metadata": {
        "id": "YC16Zk2RAkLp"
      },
      "source": [
        "os.mkdir('/cache/')"
      ],
      "execution_count": null,
      "outputs": []
    },
    {
      "cell_type": "code",
      "metadata": {
        "id": "_gb4Ce_OI27W"
      },
      "source": [
        "!rm -rf '/LifeCLEF2015Plant/'"
      ],
      "execution_count": null,
      "outputs": []
    },
    {
      "cell_type": "code",
      "metadata": {
        "id": "2__JghhtzaJE"
      },
      "source": [
        "DRIVE_DIR = 'gdrive/MyDrive/'\n",
        "DATA_DIR = 'LifeCLEF2015Plant'\n",
        "\n",
        "LIST_OF_TRAINING_IMAGES = '/list_of_train_images.csv'\n",
        "PATH_LIST = DATA_DIR +'/resources/' + 'training_path_list.csv'"
      ],
      "execution_count": 5,
      "outputs": []
    },
    {
      "cell_type": "code",
      "metadata": {
        "id": "C7bNPRyjzcFv"
      },
      "source": [
        "def get_filenames(base_dir):\n",
        "  filenames = list()\n",
        "  for file in os.listdir(base_dir):\n",
        "    if file.endswith('.tfrecord'):\n",
        "      filenames.append(base_dir+file)\n",
        "  return filenames"
      ],
      "execution_count": null,
      "outputs": []
    },
    {
      "cell_type": "code",
      "metadata": {
        "id": "o2IjiUCyIOjV",
        "colab": {
          "base_uri": "https://localhost:8080/"
        },
        "outputId": "2e7d5173-e7e9-4f9f-dd49-63e409e086d1"
      },
      "source": [
        "!gcloud auth application-default login"
      ],
      "execution_count": 6,
      "outputs": [
        {
          "output_type": "stream",
          "text": [
            "Go to the following link in your browser:\n",
            "\n",
            "    https://accounts.google.com/o/oauth2/auth?response_type=code&client_id=764086051850-6qr4p6gpi6hn506pt8ejuq83di341hur.apps.googleusercontent.com&redirect_uri=urn%3Aietf%3Awg%3Aoauth%3A2.0%3Aoob&scope=openid+https%3A%2F%2Fwww.googleapis.com%2Fauth%2Fuserinfo.email+https%3A%2F%2Fwww.googleapis.com%2Fauth%2Fcloud-platform+https%3A%2F%2Fwww.googleapis.com%2Fauth%2Faccounts.reauth&state=aeOnsUCk7aY9hymt9bAQPRGbqaSzXI&prompt=consent&access_type=offline&code_challenge=tz8DWjPizxQMmCocR8iCTqQLikRSkvfp7HaS0oUnxGU&code_challenge_method=S256\n",
            "\n",
            "Enter verification code: 4/1AX4XfWhY-y2SLcyi4DETsLLooBTzi4GfPfe9-KnedKYpvzqQ8poA503Jr6Q\n",
            "\n",
            "Credentials saved to file: [/content/.config/application_default_credentials.json]\n",
            "\n",
            "These credentials will be used by any library that requests Application Default Credentials (ADC).\n",
            "\n",
            "Quota project \"plucky-cargo-245915\" was added to ADC which can be used by Google client libraries for billing and quota. Note that some services may still bill the project owning the resource.\n"
          ],
          "name": "stdout"
        }
      ]
    },
    {
      "cell_type": "code",
      "metadata": {
        "id": "nVxQE0v5zWqM"
      },
      "source": [
        "def get_filenamesTPU(base_dir):\n",
        "  filenames = tf.io.gfile.glob(base_dir+'*.tfrecord')\n",
        "  return filenames"
      ],
      "execution_count": 7,
      "outputs": []
    },
    {
      "cell_type": "code",
      "metadata": {
        "id": "wUCIB89P1szu"
      },
      "source": [
        "def train_model(train_path, validation_path, buffer_size, epochs, steps_per_epoch, model):\n",
        "  data_augmentation = preprocessing_model()\n",
        "\n",
        "  train_filenames = get_filenamesTPU(train_path)\n",
        "  random.shuffle(train_filenames)\n",
        "\n",
        "  validation_filenames = get_filenamesTPU(validation_path)\n",
        "  random.shuffle(validation_filenames)\n",
        "\n",
        "  dataset_length = 91758  \n",
        "  train_size =  dataset_length * 0.7\n",
        "  validation_size = dataset_length - train_size\n",
        "\n",
        "  buffer_size = buffer_size * tpu_strategy.num_replicas_in_sync\n",
        "  \n",
        "  batch_size = 32 * tpu_strategy.num_replicas_in_sync\n",
        "\n",
        "  tpu_arg_0 = 32 * batch_size\n",
        "\n",
        "  data_reshape = lambda x,y: (tf.reshape(x,shape=(tpu_arg_0,224,224,3)), (tf.reshape(y[0],shape=(tpu_arg_0,516)),tf.reshape(y[1],shape=(tpu_arg_0,124))))\n",
        "  \n",
        "  augmentation_pipeline = lambda x,y: (data_augmentation(tf.expand_dims(x,axis=0)),(tf.tile(tf.reshape(y[0],[1,516]),[32,1]),tf.tile(tf.reshape(y[1],[1,124]),[32,1])))\n",
        "  \n",
        "  AUTO = tf.data.AUTOTUNE\n",
        "  train_dataset = tf.data.TFRecordDataset(buffer_size=int(2e+8)* tpu_strategy.num_replicas_in_sync,num_parallel_reads=AUTO,filenames=train_filenames).map(parsing_fn,num_parallel_calls=AUTO).shuffle(buffer_size=buffer_size, reshuffle_each_iteration=True)\n",
        "  train_dataset = train_dataset.map(augmentation_pipeline, num_parallel_calls=AUTO).batch(batch_size=batch_size, drop_remainder=True)\n",
        "  train_dataset = train_dataset.map(data_reshape,num_parallel_calls=AUTO)#.cache('/cache/train_cache')\n",
        "  train_dataset = train_dataset.repeat()\n",
        "  train_dataset = train_dataset.prefetch(AUTO)\n",
        " \n",
        "  # Create a validation dataset\n",
        "  validation_dataset = tf.data.TFRecordDataset(num_parallel_reads=AUTO,filenames=validation_filenames).map(parsing_fn,num_parallel_calls=AUTO)\n",
        "  validation_dataset = validation_dataset.batch(batch_size)\n",
        "  validation_dataset = validation_dataset.prefetch(AUTO)\n",
        "  validation_dataset = validation_dataset.repeat(1)\n",
        "\n",
        "  validation_steps = validation_size / batch_size # \"This ensures that the same validation samples are used every time\"\n",
        "  history = model.fit(x=train_dataset,\n",
        "                          epochs=epochs,\n",
        "                          steps_per_epoch=steps_per_epoch,                        \n",
        "                          validation_data=validation_dataset,\n",
        "                          validation_steps=validation_steps)\n",
        "  return history"
      ],
      "execution_count": 8,
      "outputs": []
    },
    {
      "cell_type": "code",
      "metadata": {
        "colab": {
          "base_uri": "https://localhost:8080/"
        },
        "id": "lQJRwJV_SVRw",
        "outputId": "4452c5fe-341d-446b-9b16-5098b1accb5e"
      },
      "source": [
        "8770 % (32*32)"
      ],
      "execution_count": null,
      "outputs": [
        {
          "output_type": "execute_result",
          "data": {
            "text/plain": [
              "578"
            ]
          },
          "metadata": {
            "tags": []
          },
          "execution_count": 10
        }
      ]
    },
    {
      "cell_type": "code",
      "metadata": {
        "colab": {
          "base_uri": "https://localhost:8080/"
        },
        "id": "6z3gB-RDYcPw",
        "outputId": "bb315b92-fd19-42c2-d1c5-4e4683a5c557"
      },
      "source": [
        "(91758 * 0.7) / (32  * 8)"
      ],
      "execution_count": null,
      "outputs": [
        {
          "output_type": "execute_result",
          "data": {
            "text/plain": [
              "250.90078125"
            ]
          },
          "metadata": {
            "tags": []
          },
          "execution_count": 12
        }
      ]
    },
    {
      "cell_type": "code",
      "metadata": {
        "id": "VhhrB3Sm1nrN"
      },
      "source": [
        "base_directory = 'gs://clef_tfrecords'\n",
        "\n",
        "train_path = base_directory+'/LifeCLEF2015Plant/tfrecords/train/train/'\n",
        "validation_path = base_directory+'/LifeCLEF2015Plant/tfrecords/train/validation/'\n",
        "\n",
        "get_filenamesTPU(train_path)"
      ],
      "execution_count": null,
      "outputs": []
    },
    {
      "cell_type": "code",
      "metadata": {
        "colab": {
          "base_uri": "https://localhost:8080/"
        },
        "id": "a23E1IbDI4t7",
        "outputId": "9663ede6-ed82-48b5-ec00-4b56b9b4005e"
      },
      "source": [
        "#!gcloud alpha services identity create --service=tpu.googleapis.com --project=plucky-cargo-245915"
      ],
      "execution_count": null,
      "outputs": [
        {
          "output_type": "stream",
          "text": [
            "Service identity created: service-437760119491@cloud-tpu.iam.gserviceaccount.com\n"
          ],
          "name": "stdout"
        }
      ]
    },
    {
      "cell_type": "code",
      "metadata": {
        "id": "vdxG5DBSb2tG"
      },
      "source": [
        "def load_and_configure_model(optimizer, loss, metrics, path):\n",
        "  model = ResNet50V2(include_top=True, weights='imagenet')\n",
        "  transfer_layer = model.get_layer('avg_pool')\n",
        "\n",
        "  resnet_submodel = Model(inputs=model.input,outputs=transfer_layer.output)\n",
        "  model_config = resnet_submodel.get_config()\n",
        "  submodel = model_config['layers']\n",
        "  submodel.remove(submodel[0]) # Remove the previous input layer\n",
        "  input = keras.Input(shape=(224, 224, 3), name=\"input\")\n",
        "  rescaling = tf.keras.layers.experimental.preprocessing.Rescaling(1./255)(input)\n",
        "  new_model = Model(inputs=input,outputs=rescaling)\n",
        "  new_model_cfg = new_model.get_config()\n",
        "  new_model_cfg['layers'].extend(submodel)\n",
        "\n",
        "  # Replace the previous input layer with the output from the preprocessing model\n",
        "  # (Connect the preprocessing model to the resnet) \n",
        "  output_name = new_model_cfg['layers'][1]['name'] \n",
        "  new_model_cfg['layers'][2]['inbound_nodes'] = [[[output_name, 0, 0, {}]]]\n",
        "  new_model = new_model.__class__.from_config(new_model_cfg, custom_objects={})  # change custom objects if necessary\n",
        "\n",
        "  # Set back pre-trained weights on new model\n",
        "  weights = [layer.get_weights() for layer in resnet_submodel.layers[1:]]\n",
        "  for layer, weight in zip(new_model.layers[2:], weights):\n",
        "      layer.set_weights(weight)\n",
        "\n",
        "  for layer in new_model.layers[2:]:\n",
        "    layer.trainable = False\n",
        "  for layer in new_model.layers[2:]:\n",
        "    trainable = ('conv5_block3' in layer.name or 'conv5_block2' in layer.name or 'conv5_block1' in layer.name or 'conv4_block6' in layer.name or 'conv4_block5' in layer.name)      \n",
        "    layer.trainable = trainable\n",
        "\n",
        "  transfer_layer = new_model.get_layer('avg_pool')\n",
        "  genus = Dense(516, activation='softmax',name='genus')(transfer_layer.output)\n",
        "  family = Dense(124,activation='softmax', name='family')(transfer_layer.output)\n",
        "\n",
        "  model = keras.Model(\n",
        "      inputs=[new_model.inputs],\n",
        "      outputs=[genus,family],\n",
        "  )\n",
        "  if not path == None :\n",
        "    model.load_weights(path)\n",
        "  model.compile(optimizer=optimizer, loss=loss, metrics=metrics)      \n",
        "  print_layer_trainable(model)\n",
        "  return model"
      ],
      "execution_count": 9,
      "outputs": []
    },
    {
      "cell_type": "code",
      "metadata": {
        "id": "FLC8FNYEzqeL"
      },
      "source": [
        "from tensorflow.keras.applications.resnet_v2 import ResNet50V2\n",
        "from tensorflow.keras.layers import Dense\n",
        "from tensorflow.keras.models import Model\n",
        "\n",
        "def save_history(path):\n",
        "  with open(path, 'wb') as file_pi:\n",
        "    pickle.dump(history.history, file_pi)\n",
        "\n",
        "def print_layer_trainable(conv_model):\n",
        "    for layer in conv_model.layers:\n",
        "        print(\"{0}:\\t{1}\".format(layer.trainable, layer.name))\n",
        "\n",
        "def parsing_fn(serialized):\n",
        "    features = \\\n",
        "        {\n",
        "            'image': tf.io.FixedLenFeature([], tf.string),\n",
        "            'species': tf.io.FixedLenFeature([1000], tf.int64),\n",
        "            'genus': tf.io.FixedLenFeature([516], tf.int64),\n",
        "            'family': tf.io.FixedLenFeature([124], tf.int64),           \n",
        "        }\n",
        "    parsed_example = tf.io.parse_single_example(serialized=serialized,\n",
        "                                             features=features)\n",
        "    image_raw = parsed_example['image']\n",
        "    # Decode the raw bytes so it becomes a tensor with type.\n",
        "    image = tf.io.decode_jpeg(image_raw)    \n",
        "    # The type is now uint8 but we need it to be float.\n",
        "    image = tf.cast(image, tf.float32)\n",
        "    genus = tf.cast(parsed_example['genus'],tf.int32)\n",
        "    family = tf.cast(parsed_example['family'],tf.int32)\n",
        "    return image, (genus,family)\n",
        "\n",
        "def plot_training_history2(history):\n",
        "    acc = history.history['categorical_accuracy']\n",
        "    loss = history.history['loss']\n",
        "\n",
        "    val_acc = history.history['val_categorical_accuracy']\n",
        "    val_loss = history.history['val_loss']\n",
        "\n",
        "    plt.plot(acc, linestyle='-', color='b', label='Training Acc.')\n",
        "    plt.plot(val_acc, linestyle='--', color='r', label='Test Acc.')\n",
        "    plt.title('Training and Test Accuracy')\n",
        "    plt.legend()\n",
        "    plt.show()\n",
        "\n",
        "    plt.plot(loss, 'o', color='b', label='Training Loss')    \n",
        "    plt.plot(val_loss, 'o', color='r', label='Test Loss')\n",
        "    plt.title('Training and Test Loss')\n",
        "    plt.legend()\n",
        "    plt.show()    \n",
        "\n",
        "def plot_training_history3(history):\n",
        "  genus_acc = history.history['genus_categorical_accuracy']\n",
        "  genus_loss = history.history['genus_loss']\n",
        "  genus_val_acc = history.history['val_genus_categorical_accuracy']\n",
        "  genus_val_loss = history.history['val_genus_loss']\n",
        "  \n",
        "  plt.plot(genus_acc, linestyle='-', color='lime', label='Training Acc.')\n",
        "  plt.plot(genus_val_acc, linestyle='--', color='tomato', label='Val. Acc.')\n",
        "  plt.title('Genus: Training and Validation Accuracy')\n",
        "  plt.legend()\n",
        "  plt.show()\n",
        "\n",
        "  plt.plot(genus_loss, 'o', color='lime', label='Training Loss')    \n",
        "  plt.plot(genus_val_loss, 'o', color='tomato', label='Validation Loss')\n",
        "  plt.title('Genus: Training and Validation Loss')\n",
        "  plt.legend()\n",
        "  plt.show()    \n",
        "\n",
        "  family_acc = history.history['family_categorical_accuracy']\n",
        "  family_loss = history.history['family_loss']\n",
        "  family_val_acc = history.history['val_family_categorical_accuracy']\n",
        "  family_val_loss = history.history['val_family_loss']\n",
        "  \n",
        "  plt.plot(family_acc, linestyle='-', color='lightskyblue', label='Training Acc.')\n",
        "  plt.plot(family_val_acc, linestyle='--', color='crimson', label='Val. Acc.')\n",
        "  plt.title('Family: Training and Validation Accuracy')\n",
        "  plt.legend()\n",
        "  plt.show()\n",
        "\n",
        "  plt.plot(family_loss, 'o', color='lightskyblue', label='Training Loss')    \n",
        "  plt.plot(family_val_loss, 'o', color='crimson', label='Validation Loss')\n",
        "  plt.title('Family: Training and Validation Loss')\n",
        "  plt.legend()\n",
        "  plt.show()    \n"
      ],
      "execution_count": 10,
      "outputs": []
    },
    {
      "cell_type": "code",
      "metadata": {
        "id": "K5g5RGsRHLuT"
      },
      "source": [
        "def preprocessing_model():\n",
        "  input = keras.Input(shape=(224, 224, 3), name=\"input\")\n",
        "  central_crop = tf.keras.layers.experimental.preprocessing.CenterCrop(height=112,width=112)(input) \n",
        "  resized_single_crop = tf.keras.layers.experimental.preprocessing.Resizing(224,224)(central_crop)\n",
        "\n",
        "  random_crop = keras.Sequential([tf.keras.layers.experimental.preprocessing.RandomCrop(height=56,width=74)])\n",
        "\n",
        "  random_crop0 = random_crop(input,training=True)\n",
        "  random_crop1 = random_crop(input,training=True)\n",
        "  random_crop2 = random_crop(input,training=True)\n",
        "  random_crop3 = random_crop(input,training=True)\n",
        "  random_crop4 = random_crop(input,training=True) \n",
        "\n",
        "  crops = tf.keras.layers.concatenate([random_crop0,random_crop1,random_crop2,random_crop3,random_crop4],axis=0)\n",
        "  resized_crops = tf.keras.layers.experimental.preprocessing.Resizing(224,224)(crops)\n",
        "\n",
        "  rotate_1 = keras.Sequential([tf.keras.layers.experimental.preprocessing.RandomRotation(factor=[-0.125,0.125])])\n",
        "\n",
        "  rotated_a = rotate_1(input,training=True)\n",
        "\n",
        "  augmented_images = tf.keras.layers.concatenate([input,resized_crops,resized_single_crop,rotated_a],axis=0)\n",
        "\n",
        "  translate_1 = keras.Sequential([keras.layers.experimental.preprocessing.RandomTranslation(height_factor=(-0.25,0.25),width_factor=(-0.25,0.25))])\n",
        "\n",
        "  translated_a = translate_1(augmented_images,training=True)\n",
        "\n",
        "  augmented_images = tf.keras.layers.concatenate([augmented_images,translated_a],axis=0)\n",
        "  mirrored_versions = keras.Sequential([tf.keras.layers.experimental.preprocessing.RandomFlip('vertical')])\n",
        "  mirrored_images = mirrored_versions(augmented_images,training=True)\n",
        "  augmented_images = tf.keras.layers.concatenate([augmented_images,mirrored_images],axis=0)\n",
        "\n",
        "  model = tf.keras.Model(inputs=input,outputs=augmented_images)\n",
        "  return model"
      ],
      "execution_count": 11,
      "outputs": []
    },
    {
      "cell_type": "code",
      "metadata": {
        "colab": {
          "base_uri": "https://localhost:8080/"
        },
        "id": "MBBkfgdXhb3N",
        "outputId": "8e44402b-7f5b-4f1d-dfce-75a0cd0fffbb"
      },
      "source": [
        "loss={\n",
        "        \"genus\": 'CategoricalCrossentropy',\n",
        "        \"family\": 'CategoricalCrossentropy',\n",
        "},\n",
        "\n",
        "metrics = ['categorical_accuracy']\n",
        "\n",
        "optimizer = Adam(learning_rate=5e-5)\n",
        "\n",
        "weight_file = None \n",
        "with tpu_strategy.scope():\n",
        "  resnet_50V2 = load_and_configure_model(optimizer, loss, metrics, weight_file)\n",
        "base_directory = 'gs://clef_tfrecords'\n",
        "\n",
        "train_path = base_directory+'/LifeCLEF2015Plant/tfrecords/train/train/'\n",
        "validation_path = base_directory+'/LifeCLEF2015Plant/tfrecords/train/validation/'\n",
        "\n",
        "buffer_size = 10240\n",
        "epochs = 20\n",
        "steps_per_epoch = 252\n",
        "\n",
        "resnet_50V2.summary()\n",
        "history = train_model(train_path, validation_path, buffer_size, epochs, steps_per_epoch, resnet_50V2)"
      ],
      "execution_count": 12,
      "outputs": [
        {
          "output_type": "stream",
          "text": [
            "Downloading data from https://storage.googleapis.com/tensorflow/keras-applications/resnet/resnet50v2_weights_tf_dim_ordering_tf_kernels.h5\n",
            "102875136/102869336 [==============================] - 2s 0us/step\n"
          ],
          "name": "stdout"
        },
        {
          "output_type": "stream",
          "text": [
            "/usr/local/lib/python3.7/dist-packages/tensorflow/python/keras/utils/generic_utils.py:497: CustomMaskWarning: Custom mask layers require a config and must override get_config. When loading, the custom mask layer must be passed to the custom_objects argument.\n",
            "  category=CustomMaskWarning)\n"
          ],
          "name": "stderr"
        },
        {
          "output_type": "stream",
          "text": [
            "True:\tinput\n",
            "True:\trescaling\n",
            "False:\tconv1_pad\n",
            "False:\tconv1_conv\n",
            "False:\tpool1_pad\n",
            "False:\tpool1_pool\n",
            "False:\tconv2_block1_preact_bn\n",
            "False:\tconv2_block1_preact_relu\n",
            "False:\tconv2_block1_1_conv\n",
            "False:\tconv2_block1_1_bn\n",
            "False:\tconv2_block1_1_relu\n",
            "False:\tconv2_block1_2_pad\n",
            "False:\tconv2_block1_2_conv\n",
            "False:\tconv2_block1_2_bn\n",
            "False:\tconv2_block1_2_relu\n",
            "False:\tconv2_block1_0_conv\n",
            "False:\tconv2_block1_3_conv\n",
            "False:\tconv2_block1_out\n",
            "False:\tconv2_block2_preact_bn\n",
            "False:\tconv2_block2_preact_relu\n",
            "False:\tconv2_block2_1_conv\n",
            "False:\tconv2_block2_1_bn\n",
            "False:\tconv2_block2_1_relu\n",
            "False:\tconv2_block2_2_pad\n",
            "False:\tconv2_block2_2_conv\n",
            "False:\tconv2_block2_2_bn\n",
            "False:\tconv2_block2_2_relu\n",
            "False:\tconv2_block2_3_conv\n",
            "False:\tconv2_block2_out\n",
            "False:\tconv2_block3_preact_bn\n",
            "False:\tconv2_block3_preact_relu\n",
            "False:\tconv2_block3_1_conv\n",
            "False:\tconv2_block3_1_bn\n",
            "False:\tconv2_block3_1_relu\n",
            "False:\tconv2_block3_2_pad\n",
            "False:\tconv2_block3_2_conv\n",
            "False:\tconv2_block3_2_bn\n",
            "False:\tconv2_block3_2_relu\n",
            "False:\tmax_pooling2d\n",
            "False:\tconv2_block3_3_conv\n",
            "False:\tconv2_block3_out\n",
            "False:\tconv3_block1_preact_bn\n",
            "False:\tconv3_block1_preact_relu\n",
            "False:\tconv3_block1_1_conv\n",
            "False:\tconv3_block1_1_bn\n",
            "False:\tconv3_block1_1_relu\n",
            "False:\tconv3_block1_2_pad\n",
            "False:\tconv3_block1_2_conv\n",
            "False:\tconv3_block1_2_bn\n",
            "False:\tconv3_block1_2_relu\n",
            "False:\tconv3_block1_0_conv\n",
            "False:\tconv3_block1_3_conv\n",
            "False:\tconv3_block1_out\n",
            "False:\tconv3_block2_preact_bn\n",
            "False:\tconv3_block2_preact_relu\n",
            "False:\tconv3_block2_1_conv\n",
            "False:\tconv3_block2_1_bn\n",
            "False:\tconv3_block2_1_relu\n",
            "False:\tconv3_block2_2_pad\n",
            "False:\tconv3_block2_2_conv\n",
            "False:\tconv3_block2_2_bn\n",
            "False:\tconv3_block2_2_relu\n",
            "False:\tconv3_block2_3_conv\n",
            "False:\tconv3_block2_out\n",
            "False:\tconv3_block3_preact_bn\n",
            "False:\tconv3_block3_preact_relu\n",
            "False:\tconv3_block3_1_conv\n",
            "False:\tconv3_block3_1_bn\n",
            "False:\tconv3_block3_1_relu\n",
            "False:\tconv3_block3_2_pad\n",
            "False:\tconv3_block3_2_conv\n",
            "False:\tconv3_block3_2_bn\n",
            "False:\tconv3_block3_2_relu\n",
            "False:\tconv3_block3_3_conv\n",
            "False:\tconv3_block3_out\n",
            "False:\tconv3_block4_preact_bn\n",
            "False:\tconv3_block4_preact_relu\n",
            "False:\tconv3_block4_1_conv\n",
            "False:\tconv3_block4_1_bn\n",
            "False:\tconv3_block4_1_relu\n",
            "False:\tconv3_block4_2_pad\n",
            "False:\tconv3_block4_2_conv\n",
            "False:\tconv3_block4_2_bn\n",
            "False:\tconv3_block4_2_relu\n",
            "False:\tmax_pooling2d_1\n",
            "False:\tconv3_block4_3_conv\n",
            "False:\tconv3_block4_out\n",
            "False:\tconv4_block1_preact_bn\n",
            "False:\tconv4_block1_preact_relu\n",
            "False:\tconv4_block1_1_conv\n",
            "False:\tconv4_block1_1_bn\n",
            "False:\tconv4_block1_1_relu\n",
            "False:\tconv4_block1_2_pad\n",
            "False:\tconv4_block1_2_conv\n",
            "False:\tconv4_block1_2_bn\n",
            "False:\tconv4_block1_2_relu\n",
            "False:\tconv4_block1_0_conv\n",
            "False:\tconv4_block1_3_conv\n",
            "False:\tconv4_block1_out\n",
            "False:\tconv4_block2_preact_bn\n",
            "False:\tconv4_block2_preact_relu\n",
            "False:\tconv4_block2_1_conv\n",
            "False:\tconv4_block2_1_bn\n",
            "False:\tconv4_block2_1_relu\n",
            "False:\tconv4_block2_2_pad\n",
            "False:\tconv4_block2_2_conv\n",
            "False:\tconv4_block2_2_bn\n",
            "False:\tconv4_block2_2_relu\n",
            "False:\tconv4_block2_3_conv\n",
            "False:\tconv4_block2_out\n",
            "False:\tconv4_block3_preact_bn\n",
            "False:\tconv4_block3_preact_relu\n",
            "False:\tconv4_block3_1_conv\n",
            "False:\tconv4_block3_1_bn\n",
            "False:\tconv4_block3_1_relu\n",
            "False:\tconv4_block3_2_pad\n",
            "False:\tconv4_block3_2_conv\n",
            "False:\tconv4_block3_2_bn\n",
            "False:\tconv4_block3_2_relu\n",
            "False:\tconv4_block3_3_conv\n",
            "False:\tconv4_block3_out\n",
            "False:\tconv4_block4_preact_bn\n",
            "False:\tconv4_block4_preact_relu\n",
            "False:\tconv4_block4_1_conv\n",
            "False:\tconv4_block4_1_bn\n",
            "False:\tconv4_block4_1_relu\n",
            "False:\tconv4_block4_2_pad\n",
            "False:\tconv4_block4_2_conv\n",
            "False:\tconv4_block4_2_bn\n",
            "False:\tconv4_block4_2_relu\n",
            "False:\tconv4_block4_3_conv\n",
            "False:\tconv4_block4_out\n",
            "True:\tconv4_block5_preact_bn\n",
            "True:\tconv4_block5_preact_relu\n",
            "True:\tconv4_block5_1_conv\n",
            "True:\tconv4_block5_1_bn\n",
            "True:\tconv4_block5_1_relu\n",
            "True:\tconv4_block5_2_pad\n",
            "True:\tconv4_block5_2_conv\n",
            "True:\tconv4_block5_2_bn\n",
            "True:\tconv4_block5_2_relu\n",
            "True:\tconv4_block5_3_conv\n",
            "True:\tconv4_block5_out\n",
            "True:\tconv4_block6_preact_bn\n",
            "True:\tconv4_block6_preact_relu\n",
            "True:\tconv4_block6_1_conv\n",
            "True:\tconv4_block6_1_bn\n",
            "True:\tconv4_block6_1_relu\n",
            "True:\tconv4_block6_2_pad\n",
            "True:\tconv4_block6_2_conv\n",
            "True:\tconv4_block6_2_bn\n",
            "True:\tconv4_block6_2_relu\n",
            "False:\tmax_pooling2d_2\n",
            "True:\tconv4_block6_3_conv\n",
            "True:\tconv4_block6_out\n",
            "True:\tconv5_block1_preact_bn\n",
            "True:\tconv5_block1_preact_relu\n",
            "True:\tconv5_block1_1_conv\n",
            "True:\tconv5_block1_1_bn\n",
            "True:\tconv5_block1_1_relu\n",
            "True:\tconv5_block1_2_pad\n",
            "True:\tconv5_block1_2_conv\n",
            "True:\tconv5_block1_2_bn\n",
            "True:\tconv5_block1_2_relu\n",
            "True:\tconv5_block1_0_conv\n",
            "True:\tconv5_block1_3_conv\n",
            "True:\tconv5_block1_out\n",
            "True:\tconv5_block2_preact_bn\n",
            "True:\tconv5_block2_preact_relu\n",
            "True:\tconv5_block2_1_conv\n",
            "True:\tconv5_block2_1_bn\n",
            "True:\tconv5_block2_1_relu\n",
            "True:\tconv5_block2_2_pad\n",
            "True:\tconv5_block2_2_conv\n",
            "True:\tconv5_block2_2_bn\n",
            "True:\tconv5_block2_2_relu\n",
            "True:\tconv5_block2_3_conv\n",
            "True:\tconv5_block2_out\n",
            "True:\tconv5_block3_preact_bn\n",
            "True:\tconv5_block3_preact_relu\n",
            "True:\tconv5_block3_1_conv\n",
            "True:\tconv5_block3_1_bn\n",
            "True:\tconv5_block3_1_relu\n",
            "True:\tconv5_block3_2_pad\n",
            "True:\tconv5_block3_2_conv\n",
            "True:\tconv5_block3_2_bn\n",
            "True:\tconv5_block3_2_relu\n",
            "True:\tconv5_block3_3_conv\n",
            "True:\tconv5_block3_out\n",
            "False:\tpost_bn\n",
            "False:\tpost_relu\n",
            "False:\tavg_pool\n",
            "True:\tgenus\n",
            "True:\tfamily\n",
            "Model: \"model_2\"\n",
            "__________________________________________________________________________________________________\n",
            "Layer (type)                    Output Shape         Param #     Connected to                     \n",
            "==================================================================================================\n",
            "input (InputLayer)              [(None, 224, 224, 3) 0                                            \n",
            "__________________________________________________________________________________________________\n",
            "rescaling (Rescaling)           (None, 224, 224, 3)  0           input[0][0]                      \n",
            "__________________________________________________________________________________________________\n",
            "conv1_pad (ZeroPadding2D)       (None, 230, 230, 3)  0           rescaling[0][0]                  \n",
            "__________________________________________________________________________________________________\n",
            "conv1_conv (Conv2D)             (None, 112, 112, 64) 9472        conv1_pad[0][0]                  \n",
            "__________________________________________________________________________________________________\n",
            "pool1_pad (ZeroPadding2D)       (None, 114, 114, 64) 0           conv1_conv[0][0]                 \n",
            "__________________________________________________________________________________________________\n",
            "pool1_pool (MaxPooling2D)       (None, 56, 56, 64)   0           pool1_pad[0][0]                  \n",
            "__________________________________________________________________________________________________\n",
            "conv2_block1_preact_bn (BatchNo (None, 56, 56, 64)   256         pool1_pool[0][0]                 \n",
            "__________________________________________________________________________________________________\n",
            "conv2_block1_preact_relu (Activ (None, 56, 56, 64)   0           conv2_block1_preact_bn[0][0]     \n",
            "__________________________________________________________________________________________________\n",
            "conv2_block1_1_conv (Conv2D)    (None, 56, 56, 64)   4096        conv2_block1_preact_relu[0][0]   \n",
            "__________________________________________________________________________________________________\n",
            "conv2_block1_1_bn (BatchNormali (None, 56, 56, 64)   256         conv2_block1_1_conv[0][0]        \n",
            "__________________________________________________________________________________________________\n",
            "conv2_block1_1_relu (Activation (None, 56, 56, 64)   0           conv2_block1_1_bn[0][0]          \n",
            "__________________________________________________________________________________________________\n",
            "conv2_block1_2_pad (ZeroPadding (None, 58, 58, 64)   0           conv2_block1_1_relu[0][0]        \n",
            "__________________________________________________________________________________________________\n",
            "conv2_block1_2_conv (Conv2D)    (None, 56, 56, 64)   36864       conv2_block1_2_pad[0][0]         \n",
            "__________________________________________________________________________________________________\n",
            "conv2_block1_2_bn (BatchNormali (None, 56, 56, 64)   256         conv2_block1_2_conv[0][0]        \n",
            "__________________________________________________________________________________________________\n",
            "conv2_block1_2_relu (Activation (None, 56, 56, 64)   0           conv2_block1_2_bn[0][0]          \n",
            "__________________________________________________________________________________________________\n",
            "conv2_block1_0_conv (Conv2D)    (None, 56, 56, 256)  16640       conv2_block1_preact_relu[0][0]   \n",
            "__________________________________________________________________________________________________\n",
            "conv2_block1_3_conv (Conv2D)    (None, 56, 56, 256)  16640       conv2_block1_2_relu[0][0]        \n",
            "__________________________________________________________________________________________________\n",
            "conv2_block1_out (Add)          (None, 56, 56, 256)  0           conv2_block1_0_conv[0][0]        \n",
            "                                                                 conv2_block1_3_conv[0][0]        \n",
            "__________________________________________________________________________________________________\n",
            "conv2_block2_preact_bn (BatchNo (None, 56, 56, 256)  1024        conv2_block1_out[0][0]           \n",
            "__________________________________________________________________________________________________\n",
            "conv2_block2_preact_relu (Activ (None, 56, 56, 256)  0           conv2_block2_preact_bn[0][0]     \n",
            "__________________________________________________________________________________________________\n",
            "conv2_block2_1_conv (Conv2D)    (None, 56, 56, 64)   16384       conv2_block2_preact_relu[0][0]   \n",
            "__________________________________________________________________________________________________\n",
            "conv2_block2_1_bn (BatchNormali (None, 56, 56, 64)   256         conv2_block2_1_conv[0][0]        \n",
            "__________________________________________________________________________________________________\n",
            "conv2_block2_1_relu (Activation (None, 56, 56, 64)   0           conv2_block2_1_bn[0][0]          \n",
            "__________________________________________________________________________________________________\n",
            "conv2_block2_2_pad (ZeroPadding (None, 58, 58, 64)   0           conv2_block2_1_relu[0][0]        \n",
            "__________________________________________________________________________________________________\n",
            "conv2_block2_2_conv (Conv2D)    (None, 56, 56, 64)   36864       conv2_block2_2_pad[0][0]         \n",
            "__________________________________________________________________________________________________\n",
            "conv2_block2_2_bn (BatchNormali (None, 56, 56, 64)   256         conv2_block2_2_conv[0][0]        \n",
            "__________________________________________________________________________________________________\n",
            "conv2_block2_2_relu (Activation (None, 56, 56, 64)   0           conv2_block2_2_bn[0][0]          \n",
            "__________________________________________________________________________________________________\n",
            "conv2_block2_3_conv (Conv2D)    (None, 56, 56, 256)  16640       conv2_block2_2_relu[0][0]        \n",
            "__________________________________________________________________________________________________\n",
            "conv2_block2_out (Add)          (None, 56, 56, 256)  0           conv2_block1_out[0][0]           \n",
            "                                                                 conv2_block2_3_conv[0][0]        \n",
            "__________________________________________________________________________________________________\n",
            "conv2_block3_preact_bn (BatchNo (None, 56, 56, 256)  1024        conv2_block2_out[0][0]           \n",
            "__________________________________________________________________________________________________\n",
            "conv2_block3_preact_relu (Activ (None, 56, 56, 256)  0           conv2_block3_preact_bn[0][0]     \n",
            "__________________________________________________________________________________________________\n",
            "conv2_block3_1_conv (Conv2D)    (None, 56, 56, 64)   16384       conv2_block3_preact_relu[0][0]   \n",
            "__________________________________________________________________________________________________\n",
            "conv2_block3_1_bn (BatchNormali (None, 56, 56, 64)   256         conv2_block3_1_conv[0][0]        \n",
            "__________________________________________________________________________________________________\n",
            "conv2_block3_1_relu (Activation (None, 56, 56, 64)   0           conv2_block3_1_bn[0][0]          \n",
            "__________________________________________________________________________________________________\n",
            "conv2_block3_2_pad (ZeroPadding (None, 58, 58, 64)   0           conv2_block3_1_relu[0][0]        \n",
            "__________________________________________________________________________________________________\n",
            "conv2_block3_2_conv (Conv2D)    (None, 28, 28, 64)   36864       conv2_block3_2_pad[0][0]         \n",
            "__________________________________________________________________________________________________\n",
            "conv2_block3_2_bn (BatchNormali (None, 28, 28, 64)   256         conv2_block3_2_conv[0][0]        \n",
            "__________________________________________________________________________________________________\n",
            "conv2_block3_2_relu (Activation (None, 28, 28, 64)   0           conv2_block3_2_bn[0][0]          \n",
            "__________________________________________________________________________________________________\n",
            "max_pooling2d (MaxPooling2D)    (None, 28, 28, 256)  0           conv2_block2_out[0][0]           \n",
            "__________________________________________________________________________________________________\n",
            "conv2_block3_3_conv (Conv2D)    (None, 28, 28, 256)  16640       conv2_block3_2_relu[0][0]        \n",
            "__________________________________________________________________________________________________\n",
            "conv2_block3_out (Add)          (None, 28, 28, 256)  0           max_pooling2d[0][0]              \n",
            "                                                                 conv2_block3_3_conv[0][0]        \n",
            "__________________________________________________________________________________________________\n",
            "conv3_block1_preact_bn (BatchNo (None, 28, 28, 256)  1024        conv2_block3_out[0][0]           \n",
            "__________________________________________________________________________________________________\n",
            "conv3_block1_preact_relu (Activ (None, 28, 28, 256)  0           conv3_block1_preact_bn[0][0]     \n",
            "__________________________________________________________________________________________________\n",
            "conv3_block1_1_conv (Conv2D)    (None, 28, 28, 128)  32768       conv3_block1_preact_relu[0][0]   \n",
            "__________________________________________________________________________________________________\n",
            "conv3_block1_1_bn (BatchNormali (None, 28, 28, 128)  512         conv3_block1_1_conv[0][0]        \n",
            "__________________________________________________________________________________________________\n",
            "conv3_block1_1_relu (Activation (None, 28, 28, 128)  0           conv3_block1_1_bn[0][0]          \n",
            "__________________________________________________________________________________________________\n",
            "conv3_block1_2_pad (ZeroPadding (None, 30, 30, 128)  0           conv3_block1_1_relu[0][0]        \n",
            "__________________________________________________________________________________________________\n",
            "conv3_block1_2_conv (Conv2D)    (None, 28, 28, 128)  147456      conv3_block1_2_pad[0][0]         \n",
            "__________________________________________________________________________________________________\n",
            "conv3_block1_2_bn (BatchNormali (None, 28, 28, 128)  512         conv3_block1_2_conv[0][0]        \n",
            "__________________________________________________________________________________________________\n",
            "conv3_block1_2_relu (Activation (None, 28, 28, 128)  0           conv3_block1_2_bn[0][0]          \n",
            "__________________________________________________________________________________________________\n",
            "conv3_block1_0_conv (Conv2D)    (None, 28, 28, 512)  131584      conv3_block1_preact_relu[0][0]   \n",
            "__________________________________________________________________________________________________\n",
            "conv3_block1_3_conv (Conv2D)    (None, 28, 28, 512)  66048       conv3_block1_2_relu[0][0]        \n",
            "__________________________________________________________________________________________________\n",
            "conv3_block1_out (Add)          (None, 28, 28, 512)  0           conv3_block1_0_conv[0][0]        \n",
            "                                                                 conv3_block1_3_conv[0][0]        \n",
            "__________________________________________________________________________________________________\n",
            "conv3_block2_preact_bn (BatchNo (None, 28, 28, 512)  2048        conv3_block1_out[0][0]           \n",
            "__________________________________________________________________________________________________\n",
            "conv3_block2_preact_relu (Activ (None, 28, 28, 512)  0           conv3_block2_preact_bn[0][0]     \n",
            "__________________________________________________________________________________________________\n",
            "conv3_block2_1_conv (Conv2D)    (None, 28, 28, 128)  65536       conv3_block2_preact_relu[0][0]   \n",
            "__________________________________________________________________________________________________\n",
            "conv3_block2_1_bn (BatchNormali (None, 28, 28, 128)  512         conv3_block2_1_conv[0][0]        \n",
            "__________________________________________________________________________________________________\n",
            "conv3_block2_1_relu (Activation (None, 28, 28, 128)  0           conv3_block2_1_bn[0][0]          \n",
            "__________________________________________________________________________________________________\n",
            "conv3_block2_2_pad (ZeroPadding (None, 30, 30, 128)  0           conv3_block2_1_relu[0][0]        \n",
            "__________________________________________________________________________________________________\n",
            "conv3_block2_2_conv (Conv2D)    (None, 28, 28, 128)  147456      conv3_block2_2_pad[0][0]         \n",
            "__________________________________________________________________________________________________\n",
            "conv3_block2_2_bn (BatchNormali (None, 28, 28, 128)  512         conv3_block2_2_conv[0][0]        \n",
            "__________________________________________________________________________________________________\n",
            "conv3_block2_2_relu (Activation (None, 28, 28, 128)  0           conv3_block2_2_bn[0][0]          \n",
            "__________________________________________________________________________________________________\n",
            "conv3_block2_3_conv (Conv2D)    (None, 28, 28, 512)  66048       conv3_block2_2_relu[0][0]        \n",
            "__________________________________________________________________________________________________\n",
            "conv3_block2_out (Add)          (None, 28, 28, 512)  0           conv3_block1_out[0][0]           \n",
            "                                                                 conv3_block2_3_conv[0][0]        \n",
            "__________________________________________________________________________________________________\n",
            "conv3_block3_preact_bn (BatchNo (None, 28, 28, 512)  2048        conv3_block2_out[0][0]           \n",
            "__________________________________________________________________________________________________\n",
            "conv3_block3_preact_relu (Activ (None, 28, 28, 512)  0           conv3_block3_preact_bn[0][0]     \n",
            "__________________________________________________________________________________________________\n",
            "conv3_block3_1_conv (Conv2D)    (None, 28, 28, 128)  65536       conv3_block3_preact_relu[0][0]   \n",
            "__________________________________________________________________________________________________\n",
            "conv3_block3_1_bn (BatchNormali (None, 28, 28, 128)  512         conv3_block3_1_conv[0][0]        \n",
            "__________________________________________________________________________________________________\n",
            "conv3_block3_1_relu (Activation (None, 28, 28, 128)  0           conv3_block3_1_bn[0][0]          \n",
            "__________________________________________________________________________________________________\n",
            "conv3_block3_2_pad (ZeroPadding (None, 30, 30, 128)  0           conv3_block3_1_relu[0][0]        \n",
            "__________________________________________________________________________________________________\n",
            "conv3_block3_2_conv (Conv2D)    (None, 28, 28, 128)  147456      conv3_block3_2_pad[0][0]         \n",
            "__________________________________________________________________________________________________\n",
            "conv3_block3_2_bn (BatchNormali (None, 28, 28, 128)  512         conv3_block3_2_conv[0][0]        \n",
            "__________________________________________________________________________________________________\n",
            "conv3_block3_2_relu (Activation (None, 28, 28, 128)  0           conv3_block3_2_bn[0][0]          \n",
            "__________________________________________________________________________________________________\n",
            "conv3_block3_3_conv (Conv2D)    (None, 28, 28, 512)  66048       conv3_block3_2_relu[0][0]        \n",
            "__________________________________________________________________________________________________\n",
            "conv3_block3_out (Add)          (None, 28, 28, 512)  0           conv3_block2_out[0][0]           \n",
            "                                                                 conv3_block3_3_conv[0][0]        \n",
            "__________________________________________________________________________________________________\n",
            "conv3_block4_preact_bn (BatchNo (None, 28, 28, 512)  2048        conv3_block3_out[0][0]           \n",
            "__________________________________________________________________________________________________\n",
            "conv3_block4_preact_relu (Activ (None, 28, 28, 512)  0           conv3_block4_preact_bn[0][0]     \n",
            "__________________________________________________________________________________________________\n",
            "conv3_block4_1_conv (Conv2D)    (None, 28, 28, 128)  65536       conv3_block4_preact_relu[0][0]   \n",
            "__________________________________________________________________________________________________\n",
            "conv3_block4_1_bn (BatchNormali (None, 28, 28, 128)  512         conv3_block4_1_conv[0][0]        \n",
            "__________________________________________________________________________________________________\n",
            "conv3_block4_1_relu (Activation (None, 28, 28, 128)  0           conv3_block4_1_bn[0][0]          \n",
            "__________________________________________________________________________________________________\n",
            "conv3_block4_2_pad (ZeroPadding (None, 30, 30, 128)  0           conv3_block4_1_relu[0][0]        \n",
            "__________________________________________________________________________________________________\n",
            "conv3_block4_2_conv (Conv2D)    (None, 14, 14, 128)  147456      conv3_block4_2_pad[0][0]         \n",
            "__________________________________________________________________________________________________\n",
            "conv3_block4_2_bn (BatchNormali (None, 14, 14, 128)  512         conv3_block4_2_conv[0][0]        \n",
            "__________________________________________________________________________________________________\n",
            "conv3_block4_2_relu (Activation (None, 14, 14, 128)  0           conv3_block4_2_bn[0][0]          \n",
            "__________________________________________________________________________________________________\n",
            "max_pooling2d_1 (MaxPooling2D)  (None, 14, 14, 512)  0           conv3_block3_out[0][0]           \n",
            "__________________________________________________________________________________________________\n",
            "conv3_block4_3_conv (Conv2D)    (None, 14, 14, 512)  66048       conv3_block4_2_relu[0][0]        \n",
            "__________________________________________________________________________________________________\n",
            "conv3_block4_out (Add)          (None, 14, 14, 512)  0           max_pooling2d_1[0][0]            \n",
            "                                                                 conv3_block4_3_conv[0][0]        \n",
            "__________________________________________________________________________________________________\n",
            "conv4_block1_preact_bn (BatchNo (None, 14, 14, 512)  2048        conv3_block4_out[0][0]           \n",
            "__________________________________________________________________________________________________\n",
            "conv4_block1_preact_relu (Activ (None, 14, 14, 512)  0           conv4_block1_preact_bn[0][0]     \n",
            "__________________________________________________________________________________________________\n",
            "conv4_block1_1_conv (Conv2D)    (None, 14, 14, 256)  131072      conv4_block1_preact_relu[0][0]   \n",
            "__________________________________________________________________________________________________\n",
            "conv4_block1_1_bn (BatchNormali (None, 14, 14, 256)  1024        conv4_block1_1_conv[0][0]        \n",
            "__________________________________________________________________________________________________\n",
            "conv4_block1_1_relu (Activation (None, 14, 14, 256)  0           conv4_block1_1_bn[0][0]          \n",
            "__________________________________________________________________________________________________\n",
            "conv4_block1_2_pad (ZeroPadding (None, 16, 16, 256)  0           conv4_block1_1_relu[0][0]        \n",
            "__________________________________________________________________________________________________\n",
            "conv4_block1_2_conv (Conv2D)    (None, 14, 14, 256)  589824      conv4_block1_2_pad[0][0]         \n",
            "__________________________________________________________________________________________________\n",
            "conv4_block1_2_bn (BatchNormali (None, 14, 14, 256)  1024        conv4_block1_2_conv[0][0]        \n",
            "__________________________________________________________________________________________________\n",
            "conv4_block1_2_relu (Activation (None, 14, 14, 256)  0           conv4_block1_2_bn[0][0]          \n",
            "__________________________________________________________________________________________________\n",
            "conv4_block1_0_conv (Conv2D)    (None, 14, 14, 1024) 525312      conv4_block1_preact_relu[0][0]   \n",
            "__________________________________________________________________________________________________\n",
            "conv4_block1_3_conv (Conv2D)    (None, 14, 14, 1024) 263168      conv4_block1_2_relu[0][0]        \n",
            "__________________________________________________________________________________________________\n",
            "conv4_block1_out (Add)          (None, 14, 14, 1024) 0           conv4_block1_0_conv[0][0]        \n",
            "                                                                 conv4_block1_3_conv[0][0]        \n",
            "__________________________________________________________________________________________________\n",
            "conv4_block2_preact_bn (BatchNo (None, 14, 14, 1024) 4096        conv4_block1_out[0][0]           \n",
            "__________________________________________________________________________________________________\n",
            "conv4_block2_preact_relu (Activ (None, 14, 14, 1024) 0           conv4_block2_preact_bn[0][0]     \n",
            "__________________________________________________________________________________________________\n",
            "conv4_block2_1_conv (Conv2D)    (None, 14, 14, 256)  262144      conv4_block2_preact_relu[0][0]   \n",
            "__________________________________________________________________________________________________\n",
            "conv4_block2_1_bn (BatchNormali (None, 14, 14, 256)  1024        conv4_block2_1_conv[0][0]        \n",
            "__________________________________________________________________________________________________\n",
            "conv4_block2_1_relu (Activation (None, 14, 14, 256)  0           conv4_block2_1_bn[0][0]          \n",
            "__________________________________________________________________________________________________\n",
            "conv4_block2_2_pad (ZeroPadding (None, 16, 16, 256)  0           conv4_block2_1_relu[0][0]        \n",
            "__________________________________________________________________________________________________\n",
            "conv4_block2_2_conv (Conv2D)    (None, 14, 14, 256)  589824      conv4_block2_2_pad[0][0]         \n",
            "__________________________________________________________________________________________________\n",
            "conv4_block2_2_bn (BatchNormali (None, 14, 14, 256)  1024        conv4_block2_2_conv[0][0]        \n",
            "__________________________________________________________________________________________________\n",
            "conv4_block2_2_relu (Activation (None, 14, 14, 256)  0           conv4_block2_2_bn[0][0]          \n",
            "__________________________________________________________________________________________________\n",
            "conv4_block2_3_conv (Conv2D)    (None, 14, 14, 1024) 263168      conv4_block2_2_relu[0][0]        \n",
            "__________________________________________________________________________________________________\n",
            "conv4_block2_out (Add)          (None, 14, 14, 1024) 0           conv4_block1_out[0][0]           \n",
            "                                                                 conv4_block2_3_conv[0][0]        \n",
            "__________________________________________________________________________________________________\n",
            "conv4_block3_preact_bn (BatchNo (None, 14, 14, 1024) 4096        conv4_block2_out[0][0]           \n",
            "__________________________________________________________________________________________________\n",
            "conv4_block3_preact_relu (Activ (None, 14, 14, 1024) 0           conv4_block3_preact_bn[0][0]     \n",
            "__________________________________________________________________________________________________\n",
            "conv4_block3_1_conv (Conv2D)    (None, 14, 14, 256)  262144      conv4_block3_preact_relu[0][0]   \n",
            "__________________________________________________________________________________________________\n",
            "conv4_block3_1_bn (BatchNormali (None, 14, 14, 256)  1024        conv4_block3_1_conv[0][0]        \n",
            "__________________________________________________________________________________________________\n",
            "conv4_block3_1_relu (Activation (None, 14, 14, 256)  0           conv4_block3_1_bn[0][0]          \n",
            "__________________________________________________________________________________________________\n",
            "conv4_block3_2_pad (ZeroPadding (None, 16, 16, 256)  0           conv4_block3_1_relu[0][0]        \n",
            "__________________________________________________________________________________________________\n",
            "conv4_block3_2_conv (Conv2D)    (None, 14, 14, 256)  589824      conv4_block3_2_pad[0][0]         \n",
            "__________________________________________________________________________________________________\n",
            "conv4_block3_2_bn (BatchNormali (None, 14, 14, 256)  1024        conv4_block3_2_conv[0][0]        \n",
            "__________________________________________________________________________________________________\n",
            "conv4_block3_2_relu (Activation (None, 14, 14, 256)  0           conv4_block3_2_bn[0][0]          \n",
            "__________________________________________________________________________________________________\n",
            "conv4_block3_3_conv (Conv2D)    (None, 14, 14, 1024) 263168      conv4_block3_2_relu[0][0]        \n",
            "__________________________________________________________________________________________________\n",
            "conv4_block3_out (Add)          (None, 14, 14, 1024) 0           conv4_block2_out[0][0]           \n",
            "                                                                 conv4_block3_3_conv[0][0]        \n",
            "__________________________________________________________________________________________________\n",
            "conv4_block4_preact_bn (BatchNo (None, 14, 14, 1024) 4096        conv4_block3_out[0][0]           \n",
            "__________________________________________________________________________________________________\n",
            "conv4_block4_preact_relu (Activ (None, 14, 14, 1024) 0           conv4_block4_preact_bn[0][0]     \n",
            "__________________________________________________________________________________________________\n",
            "conv4_block4_1_conv (Conv2D)    (None, 14, 14, 256)  262144      conv4_block4_preact_relu[0][0]   \n",
            "__________________________________________________________________________________________________\n",
            "conv4_block4_1_bn (BatchNormali (None, 14, 14, 256)  1024        conv4_block4_1_conv[0][0]        \n",
            "__________________________________________________________________________________________________\n",
            "conv4_block4_1_relu (Activation (None, 14, 14, 256)  0           conv4_block4_1_bn[0][0]          \n",
            "__________________________________________________________________________________________________\n",
            "conv4_block4_2_pad (ZeroPadding (None, 16, 16, 256)  0           conv4_block4_1_relu[0][0]        \n",
            "__________________________________________________________________________________________________\n",
            "conv4_block4_2_conv (Conv2D)    (None, 14, 14, 256)  589824      conv4_block4_2_pad[0][0]         \n",
            "__________________________________________________________________________________________________\n",
            "conv4_block4_2_bn (BatchNormali (None, 14, 14, 256)  1024        conv4_block4_2_conv[0][0]        \n",
            "__________________________________________________________________________________________________\n",
            "conv4_block4_2_relu (Activation (None, 14, 14, 256)  0           conv4_block4_2_bn[0][0]          \n",
            "__________________________________________________________________________________________________\n",
            "conv4_block4_3_conv (Conv2D)    (None, 14, 14, 1024) 263168      conv4_block4_2_relu[0][0]        \n",
            "__________________________________________________________________________________________________\n",
            "conv4_block4_out (Add)          (None, 14, 14, 1024) 0           conv4_block3_out[0][0]           \n",
            "                                                                 conv4_block4_3_conv[0][0]        \n",
            "__________________________________________________________________________________________________\n",
            "conv4_block5_preact_bn (BatchNo (None, 14, 14, 1024) 4096        conv4_block4_out[0][0]           \n",
            "__________________________________________________________________________________________________\n",
            "conv4_block5_preact_relu (Activ (None, 14, 14, 1024) 0           conv4_block5_preact_bn[0][0]     \n",
            "__________________________________________________________________________________________________\n",
            "conv4_block5_1_conv (Conv2D)    (None, 14, 14, 256)  262144      conv4_block5_preact_relu[0][0]   \n",
            "__________________________________________________________________________________________________\n",
            "conv4_block5_1_bn (BatchNormali (None, 14, 14, 256)  1024        conv4_block5_1_conv[0][0]        \n",
            "__________________________________________________________________________________________________\n",
            "conv4_block5_1_relu (Activation (None, 14, 14, 256)  0           conv4_block5_1_bn[0][0]          \n",
            "__________________________________________________________________________________________________\n",
            "conv4_block5_2_pad (ZeroPadding (None, 16, 16, 256)  0           conv4_block5_1_relu[0][0]        \n",
            "__________________________________________________________________________________________________\n",
            "conv4_block5_2_conv (Conv2D)    (None, 14, 14, 256)  589824      conv4_block5_2_pad[0][0]         \n",
            "__________________________________________________________________________________________________\n",
            "conv4_block5_2_bn (BatchNormali (None, 14, 14, 256)  1024        conv4_block5_2_conv[0][0]        \n",
            "__________________________________________________________________________________________________\n",
            "conv4_block5_2_relu (Activation (None, 14, 14, 256)  0           conv4_block5_2_bn[0][0]          \n",
            "__________________________________________________________________________________________________\n",
            "conv4_block5_3_conv (Conv2D)    (None, 14, 14, 1024) 263168      conv4_block5_2_relu[0][0]        \n",
            "__________________________________________________________________________________________________\n",
            "conv4_block5_out (Add)          (None, 14, 14, 1024) 0           conv4_block4_out[0][0]           \n",
            "                                                                 conv4_block5_3_conv[0][0]        \n",
            "__________________________________________________________________________________________________\n",
            "conv4_block6_preact_bn (BatchNo (None, 14, 14, 1024) 4096        conv4_block5_out[0][0]           \n",
            "__________________________________________________________________________________________________\n",
            "conv4_block6_preact_relu (Activ (None, 14, 14, 1024) 0           conv4_block6_preact_bn[0][0]     \n",
            "__________________________________________________________________________________________________\n",
            "conv4_block6_1_conv (Conv2D)    (None, 14, 14, 256)  262144      conv4_block6_preact_relu[0][0]   \n",
            "__________________________________________________________________________________________________\n",
            "conv4_block6_1_bn (BatchNormali (None, 14, 14, 256)  1024        conv4_block6_1_conv[0][0]        \n",
            "__________________________________________________________________________________________________\n",
            "conv4_block6_1_relu (Activation (None, 14, 14, 256)  0           conv4_block6_1_bn[0][0]          \n",
            "__________________________________________________________________________________________________\n",
            "conv4_block6_2_pad (ZeroPadding (None, 16, 16, 256)  0           conv4_block6_1_relu[0][0]        \n",
            "__________________________________________________________________________________________________\n",
            "conv4_block6_2_conv (Conv2D)    (None, 7, 7, 256)    589824      conv4_block6_2_pad[0][0]         \n",
            "__________________________________________________________________________________________________\n",
            "conv4_block6_2_bn (BatchNormali (None, 7, 7, 256)    1024        conv4_block6_2_conv[0][0]        \n",
            "__________________________________________________________________________________________________\n",
            "conv4_block6_2_relu (Activation (None, 7, 7, 256)    0           conv4_block6_2_bn[0][0]          \n",
            "__________________________________________________________________________________________________\n",
            "max_pooling2d_2 (MaxPooling2D)  (None, 7, 7, 1024)   0           conv4_block5_out[0][0]           \n",
            "__________________________________________________________________________________________________\n",
            "conv4_block6_3_conv (Conv2D)    (None, 7, 7, 1024)   263168      conv4_block6_2_relu[0][0]        \n",
            "__________________________________________________________________________________________________\n",
            "conv4_block6_out (Add)          (None, 7, 7, 1024)   0           max_pooling2d_2[0][0]            \n",
            "                                                                 conv4_block6_3_conv[0][0]        \n",
            "__________________________________________________________________________________________________\n",
            "conv5_block1_preact_bn (BatchNo (None, 7, 7, 1024)   4096        conv4_block6_out[0][0]           \n",
            "__________________________________________________________________________________________________\n",
            "conv5_block1_preact_relu (Activ (None, 7, 7, 1024)   0           conv5_block1_preact_bn[0][0]     \n",
            "__________________________________________________________________________________________________\n",
            "conv5_block1_1_conv (Conv2D)    (None, 7, 7, 512)    524288      conv5_block1_preact_relu[0][0]   \n",
            "__________________________________________________________________________________________________\n",
            "conv5_block1_1_bn (BatchNormali (None, 7, 7, 512)    2048        conv5_block1_1_conv[0][0]        \n",
            "__________________________________________________________________________________________________\n",
            "conv5_block1_1_relu (Activation (None, 7, 7, 512)    0           conv5_block1_1_bn[0][0]          \n",
            "__________________________________________________________________________________________________\n",
            "conv5_block1_2_pad (ZeroPadding (None, 9, 9, 512)    0           conv5_block1_1_relu[0][0]        \n",
            "__________________________________________________________________________________________________\n",
            "conv5_block1_2_conv (Conv2D)    (None, 7, 7, 512)    2359296     conv5_block1_2_pad[0][0]         \n",
            "__________________________________________________________________________________________________\n",
            "conv5_block1_2_bn (BatchNormali (None, 7, 7, 512)    2048        conv5_block1_2_conv[0][0]        \n",
            "__________________________________________________________________________________________________\n",
            "conv5_block1_2_relu (Activation (None, 7, 7, 512)    0           conv5_block1_2_bn[0][0]          \n",
            "__________________________________________________________________________________________________\n",
            "conv5_block1_0_conv (Conv2D)    (None, 7, 7, 2048)   2099200     conv5_block1_preact_relu[0][0]   \n",
            "__________________________________________________________________________________________________\n",
            "conv5_block1_3_conv (Conv2D)    (None, 7, 7, 2048)   1050624     conv5_block1_2_relu[0][0]        \n",
            "__________________________________________________________________________________________________\n",
            "conv5_block1_out (Add)          (None, 7, 7, 2048)   0           conv5_block1_0_conv[0][0]        \n",
            "                                                                 conv5_block1_3_conv[0][0]        \n",
            "__________________________________________________________________________________________________\n",
            "conv5_block2_preact_bn (BatchNo (None, 7, 7, 2048)   8192        conv5_block1_out[0][0]           \n",
            "__________________________________________________________________________________________________\n",
            "conv5_block2_preact_relu (Activ (None, 7, 7, 2048)   0           conv5_block2_preact_bn[0][0]     \n",
            "__________________________________________________________________________________________________\n",
            "conv5_block2_1_conv (Conv2D)    (None, 7, 7, 512)    1048576     conv5_block2_preact_relu[0][0]   \n",
            "__________________________________________________________________________________________________\n",
            "conv5_block2_1_bn (BatchNormali (None, 7, 7, 512)    2048        conv5_block2_1_conv[0][0]        \n",
            "__________________________________________________________________________________________________\n",
            "conv5_block2_1_relu (Activation (None, 7, 7, 512)    0           conv5_block2_1_bn[0][0]          \n",
            "__________________________________________________________________________________________________\n",
            "conv5_block2_2_pad (ZeroPadding (None, 9, 9, 512)    0           conv5_block2_1_relu[0][0]        \n",
            "__________________________________________________________________________________________________\n",
            "conv5_block2_2_conv (Conv2D)    (None, 7, 7, 512)    2359296     conv5_block2_2_pad[0][0]         \n",
            "__________________________________________________________________________________________________\n",
            "conv5_block2_2_bn (BatchNormali (None, 7, 7, 512)    2048        conv5_block2_2_conv[0][0]        \n",
            "__________________________________________________________________________________________________\n",
            "conv5_block2_2_relu (Activation (None, 7, 7, 512)    0           conv5_block2_2_bn[0][0]          \n",
            "__________________________________________________________________________________________________\n",
            "conv5_block2_3_conv (Conv2D)    (None, 7, 7, 2048)   1050624     conv5_block2_2_relu[0][0]        \n",
            "__________________________________________________________________________________________________\n",
            "conv5_block2_out (Add)          (None, 7, 7, 2048)   0           conv5_block1_out[0][0]           \n",
            "                                                                 conv5_block2_3_conv[0][0]        \n",
            "__________________________________________________________________________________________________\n",
            "conv5_block3_preact_bn (BatchNo (None, 7, 7, 2048)   8192        conv5_block2_out[0][0]           \n",
            "__________________________________________________________________________________________________\n",
            "conv5_block3_preact_relu (Activ (None, 7, 7, 2048)   0           conv5_block3_preact_bn[0][0]     \n",
            "__________________________________________________________________________________________________\n",
            "conv5_block3_1_conv (Conv2D)    (None, 7, 7, 512)    1048576     conv5_block3_preact_relu[0][0]   \n",
            "__________________________________________________________________________________________________\n",
            "conv5_block3_1_bn (BatchNormali (None, 7, 7, 512)    2048        conv5_block3_1_conv[0][0]        \n",
            "__________________________________________________________________________________________________\n",
            "conv5_block3_1_relu (Activation (None, 7, 7, 512)    0           conv5_block3_1_bn[0][0]          \n",
            "__________________________________________________________________________________________________\n",
            "conv5_block3_2_pad (ZeroPadding (None, 9, 9, 512)    0           conv5_block3_1_relu[0][0]        \n",
            "__________________________________________________________________________________________________\n",
            "conv5_block3_2_conv (Conv2D)    (None, 7, 7, 512)    2359296     conv5_block3_2_pad[0][0]         \n",
            "__________________________________________________________________________________________________\n",
            "conv5_block3_2_bn (BatchNormali (None, 7, 7, 512)    2048        conv5_block3_2_conv[0][0]        \n",
            "__________________________________________________________________________________________________\n",
            "conv5_block3_2_relu (Activation (None, 7, 7, 512)    0           conv5_block3_2_bn[0][0]          \n",
            "__________________________________________________________________________________________________\n",
            "conv5_block3_3_conv (Conv2D)    (None, 7, 7, 2048)   1050624     conv5_block3_2_relu[0][0]        \n",
            "__________________________________________________________________________________________________\n",
            "conv5_block3_out (Add)          (None, 7, 7, 2048)   0           conv5_block2_out[0][0]           \n",
            "                                                                 conv5_block3_3_conv[0][0]        \n",
            "__________________________________________________________________________________________________\n",
            "post_bn (BatchNormalization)    (None, 7, 7, 2048)   8192        conv5_block3_out[0][0]           \n",
            "__________________________________________________________________________________________________\n",
            "post_relu (Activation)          (None, 7, 7, 2048)   0           post_bn[0][0]                    \n",
            "__________________________________________________________________________________________________\n",
            "avg_pool (GlobalAveragePooling2 (None, 2048)         0           post_relu[0][0]                  \n",
            "__________________________________________________________________________________________________\n",
            "genus (Dense)                   (None, 516)          1057284     avg_pool[0][0]                   \n",
            "__________________________________________________________________________________________________\n",
            "family (Dense)                  (None, 124)          254076      avg_pool[0][0]                   \n",
            "==================================================================================================\n",
            "Total params: 24,876,160\n",
            "Trainable params: 18,514,560\n",
            "Non-trainable params: 6,361,600\n",
            "__________________________________________________________________________________________________\n",
            "Epoch 1/20\n",
            "252/252 [==============================] - 377s 1s/step - loss: 8.9577 - genus_loss: 5.3556 - family_loss: 3.6021 - genus_categorical_accuracy: 0.0778 - family_categorical_accuracy: 0.1814 - val_loss: 6.8720 - val_genus_loss: 4.1726 - val_family_loss: 2.6994 - val_genus_categorical_accuracy: 0.2234 - val_family_categorical_accuracy: 0.3528\n",
            "Epoch 2/20\n",
            "252/252 [==============================] - 311s 1s/step - loss: 7.2935 - genus_loss: 4.3400 - family_loss: 2.9535 - genus_categorical_accuracy: 0.1831 - family_categorical_accuracy: 0.2875 - val_loss: 5.4445 - val_genus_loss: 3.2412 - val_family_loss: 2.2033 - val_genus_categorical_accuracy: 0.3376 - val_family_categorical_accuracy: 0.4433\n",
            "Epoch 3/20\n",
            "252/252 [==============================] - 312s 1s/step - loss: 6.4813 - genus_loss: 3.8158 - family_loss: 2.6655 - genus_categorical_accuracy: 0.2460 - family_categorical_accuracy: 0.3394 - val_loss: 4.7409 - val_genus_loss: 2.7945 - val_family_loss: 1.9463 - val_genus_categorical_accuracy: 0.4064 - val_family_categorical_accuracy: 0.5028\n",
            "Epoch 4/20\n",
            "252/252 [==============================] - 309s 1s/step - loss: 5.9916 - genus_loss: 3.5062 - family_loss: 2.4854 - genus_categorical_accuracy: 0.2897 - family_categorical_accuracy: 0.3755 - val_loss: 4.3090 - val_genus_loss: 2.5153 - val_family_loss: 1.7936 - val_genus_categorical_accuracy: 0.4576 - val_family_categorical_accuracy: 0.5394\n",
            "Epoch 5/20\n",
            "252/252 [==============================] - 306s 1s/step - loss: 5.6133 - genus_loss: 3.2694 - family_loss: 2.3439 - genus_categorical_accuracy: 0.3253 - family_categorical_accuracy: 0.4041 - val_loss: 3.9698 - val_genus_loss: 2.3088 - val_family_loss: 1.6610 - val_genus_categorical_accuracy: 0.4926 - val_family_categorical_accuracy: 0.5681\n",
            "Epoch 6/20\n",
            "252/252 [==============================] - 320s 1s/step - loss: 5.3338 - genus_loss: 3.0921 - family_loss: 2.2416 - genus_categorical_accuracy: 0.3538 - family_categorical_accuracy: 0.4263 - val_loss: 3.7702 - val_genus_loss: 2.1682 - val_family_loss: 1.6020 - val_genus_categorical_accuracy: 0.5204 - val_family_categorical_accuracy: 0.5891\n",
            "Epoch 7/20\n",
            "252/252 [==============================] - 322s 1s/step - loss: 5.0762 - genus_loss: 2.9368 - family_loss: 2.1394 - genus_categorical_accuracy: 0.3792 - family_categorical_accuracy: 0.4489 - val_loss: 3.6338 - val_genus_loss: 2.0800 - val_family_loss: 1.5538 - val_genus_categorical_accuracy: 0.5384 - val_family_categorical_accuracy: 0.6035\n",
            "Epoch 8/20\n",
            "252/252 [==============================] - 320s 1s/step - loss: 4.8912 - genus_loss: 2.8204 - family_loss: 2.0708 - genus_categorical_accuracy: 0.3999 - family_categorical_accuracy: 0.4645 - val_loss: 3.4998 - val_genus_loss: 2.0020 - val_family_loss: 1.4978 - val_genus_categorical_accuracy: 0.5584 - val_family_categorical_accuracy: 0.6139\n",
            "Epoch 9/20\n",
            "252/252 [==============================] - 313s 1s/step - loss: 4.7060 - genus_loss: 2.7123 - family_loss: 1.9937 - genus_categorical_accuracy: 0.4189 - family_categorical_accuracy: 0.4811 - val_loss: 3.4308 - val_genus_loss: 1.9543 - val_family_loss: 1.4765 - val_genus_categorical_accuracy: 0.5681 - val_family_categorical_accuracy: 0.6228\n",
            "Epoch 10/20\n",
            "252/252 [==============================] - 311s 1s/step - loss: 4.5366 - genus_loss: 2.6053 - family_loss: 1.9313 - genus_categorical_accuracy: 0.4377 - family_categorical_accuracy: 0.4965 - val_loss: 3.3221 - val_genus_loss: 1.8892 - val_family_loss: 1.4329 - val_genus_categorical_accuracy: 0.5832 - val_family_categorical_accuracy: 0.6356\n",
            "Epoch 11/20\n",
            "252/252 [==============================] - 313s 1s/step - loss: 4.4027 - genus_loss: 2.5279 - family_loss: 1.8748 - genus_categorical_accuracy: 0.4531 - family_categorical_accuracy: 0.5097 - val_loss: 3.2955 - val_genus_loss: 1.8708 - val_family_loss: 1.4247 - val_genus_categorical_accuracy: 0.5915 - val_family_categorical_accuracy: 0.6437\n",
            "Epoch 12/20\n",
            "252/252 [==============================] - 329s 1s/step - loss: 4.2794 - genus_loss: 2.4519 - family_loss: 1.8275 - genus_categorical_accuracy: 0.4664 - family_categorical_accuracy: 0.5199 - val_loss: 3.2300 - val_genus_loss: 1.8239 - val_family_loss: 1.4061 - val_genus_categorical_accuracy: 0.6000 - val_family_categorical_accuracy: 0.6453\n",
            "Epoch 13/20\n",
            "252/252 [==============================] - 316s 1s/step - loss: 4.1553 - genus_loss: 2.3727 - family_loss: 1.7826 - genus_categorical_accuracy: 0.4819 - family_categorical_accuracy: 0.5313 - val_loss: 3.1690 - val_genus_loss: 1.7882 - val_family_loss: 1.3808 - val_genus_categorical_accuracy: 0.6102 - val_family_categorical_accuracy: 0.6545\n",
            "Epoch 14/20\n",
            "252/252 [==============================] - 317s 1s/step - loss: 4.0366 - genus_loss: 2.3073 - family_loss: 1.7293 - genus_categorical_accuracy: 0.4940 - family_categorical_accuracy: 0.5440 - val_loss: 3.1988 - val_genus_loss: 1.8001 - val_family_loss: 1.3987 - val_genus_categorical_accuracy: 0.6126 - val_family_categorical_accuracy: 0.6582\n",
            "Epoch 15/20\n",
            "252/252 [==============================] - 326s 1s/step - loss: 3.9382 - genus_loss: 2.2481 - family_loss: 1.6901 - genus_categorical_accuracy: 0.5050 - family_categorical_accuracy: 0.5536 - val_loss: 3.1518 - val_genus_loss: 1.7808 - val_family_loss: 1.3710 - val_genus_categorical_accuracy: 0.6214 - val_family_categorical_accuracy: 0.6647\n",
            "Epoch 16/20\n",
            "252/252 [==============================] - 313s 1s/step - loss: 3.8481 - genus_loss: 2.1959 - family_loss: 1.6522 - genus_categorical_accuracy: 0.5151 - family_categorical_accuracy: 0.5621 - val_loss: 3.1439 - val_genus_loss: 1.7673 - val_family_loss: 1.3766 - val_genus_categorical_accuracy: 0.6258 - val_family_categorical_accuracy: 0.6674\n",
            "Epoch 17/20\n",
            "252/252 [==============================] - 321s 1s/step - loss: 3.7530 - genus_loss: 2.1358 - family_loss: 1.6172 - genus_categorical_accuracy: 0.5272 - family_categorical_accuracy: 0.5717 - val_loss: 3.1025 - val_genus_loss: 1.7488 - val_family_loss: 1.3537 - val_genus_categorical_accuracy: 0.6277 - val_family_categorical_accuracy: 0.6718\n",
            "Epoch 18/20\n",
            "252/252 [==============================] - 316s 1s/step - loss: 3.6792 - genus_loss: 2.0916 - family_loss: 1.5876 - genus_categorical_accuracy: 0.5356 - family_categorical_accuracy: 0.5780 - val_loss: 3.1831 - val_genus_loss: 1.7832 - val_family_loss: 1.3999 - val_genus_categorical_accuracy: 0.6313 - val_family_categorical_accuracy: 0.6697\n",
            "Epoch 19/20\n",
            "252/252 [==============================] - 320s 1s/step - loss: 3.5886 - genus_loss: 2.0405 - family_loss: 1.5482 - genus_categorical_accuracy: 0.5458 - family_categorical_accuracy: 0.5876 - val_loss: 3.1480 - val_genus_loss: 1.7696 - val_family_loss: 1.3783 - val_genus_categorical_accuracy: 0.6335 - val_family_categorical_accuracy: 0.6765\n",
            "Epoch 20/20\n",
            "252/252 [==============================] - 310s 1s/step - loss: 3.5190 - genus_loss: 1.9979 - family_loss: 1.5210 - genus_categorical_accuracy: 0.5544 - family_categorical_accuracy: 0.5946 - val_loss: 3.1917 - val_genus_loss: 1.7913 - val_family_loss: 1.4004 - val_genus_categorical_accuracy: 0.6356 - val_family_categorical_accuracy: 0.6748\n"
          ],
          "name": "stdout"
        }
      ]
    },
    {
      "cell_type": "code",
      "metadata": {
        "colab": {
          "base_uri": "https://localhost:8080/",
          "height": 1000
        },
        "id": "bRoyIzFg1NXR",
        "outputId": "d233051a-7728-40cf-e05e-1771755c82e6"
      },
      "source": [
        "plot_training_history3(history)"
      ],
      "execution_count": 14,
      "outputs": [
        {
          "output_type": "display_data",
          "data": {
            "image/png": "[encoded data removed]",
            "text/plain": [
              "<Figure size 432x288 with 1 Axes>"
            ]
          },
          "metadata": {
            "tags": [],
            "needs_background": "light"
          }
        },
        {
          "output_type": "display_data",
          "data": {
            "image/png": "[encoded data removed]",
            "text/plain": [
              "<Figure size 432x288 with 1 Axes>"
            ]
          },
          "metadata": {
            "tags": [],
            "needs_background": "light"
          }
        },
        {
          "output_type": "display_data",
          "data": {
            "image/png": "[encoded data removed]",
            "text/plain": [
              "<Figure size 432x288 with 1 Axes>"
            ]
          },
          "metadata": {
            "tags": [],
            "needs_background": "light"
          }
        },
        {
          "output_type": "display_data",
          "data": {
            "image/png": "[encoded data removed]",
            "text/plain": [
              "<Figure size 432x288 with 1 Axes>"
            ]
          },
          "metadata": {
            "tags": [],
            "needs_background": "light"
          }
        }
      ]
    },
    {
      "cell_type": "code",
      "metadata": {
        "id": "DfK320VK9tKX",
        "colab": {
          "base_uri": "https://localhost:8080/"
        },
        "outputId": "17755630-129f-4092-d6d4-49b1076c5e35"
      },
      "source": [
        "resnet_50V2.save(DRIVE_DIR+DATA_DIR+'/resnet_50v2_MCM_feature_extractor.h5')"
      ],
      "execution_count": 13,
      "outputs": [
        {
          "output_type": "stream",
          "text": [
            "/usr/local/lib/python3.7/dist-packages/tensorflow/python/keras/utils/generic_utils.py:497: CustomMaskWarning: Custom mask layers require a config and must override get_config. When loading, the custom mask layer must be passed to the custom_objects argument.\n",
            "  category=CustomMaskWarning)\n"
          ],
          "name": "stderr"
        }
      ]
    }
  ]
}