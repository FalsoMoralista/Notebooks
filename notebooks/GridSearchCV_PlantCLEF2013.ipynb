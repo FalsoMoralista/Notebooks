{
  "nbformat": 4,
  "nbformat_minor": 0,
  "metadata": {
    "colab": {
      "name": "GridSearchCV_PlantCLEF2013.ipynb",
      "provenance": [],
      "collapsed_sections": []
    },
    "kernelspec": {
      "name": "python3",
      "display_name": "Python 3"
    },
    "accelerator": "GPU"
  },
  "cells": [
    {
      "cell_type": "code",
      "metadata": {
        "id": "4TJRc239Mcuu",
        "colab_type": "code",
        "colab": {}
      },
      "source": [
        "from sklearn import metrics\n",
        "import pandas as pd\n",
        "import numpy as np\n",
        "import glob\n",
        "from sklearn.decomposition import PCA\n",
        "from sklearn import svm\n",
        "from sklearn.ensemble import RandomForestClassifier\n",
        "from sklearn.model_selection import cross_validate\n",
        "from sklearn.model_selection import cross_val_predict\n",
        "from sklearn.model_selection import GridSearchCV\n",
        "from sklearn.multiclass import OneVsRestClassifier\n",
        "import time\n",
        "import collections\n",
        "from sklearn.metrics import confusion_matrix\n",
        "from sklearn.metrics import classification_report\n",
        "from collections import defaultdict\n"
      ],
      "execution_count": 0,
      "outputs": []
    },
    {
      "cell_type": "code",
      "metadata": {
        "id": "Yxf9jD3dMqZm",
        "colab_type": "code",
        "colab": {
          "base_uri": "https://localhost:8080/",
          "height": 69
        },
        "outputId": "46210d81-d173-442b-e2ea-1e00ecc7b5ef"
      },
      "source": [
        "from google.colab import drive\n",
        "drive.mount('/gdrive/')\n",
        "%cd /gdrive/My\\ Drive/artigo_plantas\n",
        "!ls"
      ],
      "execution_count": 5,
      "outputs": [
        {
          "output_type": "stream",
          "text": [
            "Drive already mounted at /gdrive/; to attempt to forcibly remount, call drive.mount(\"/gdrive/\", force_remount=True).\n",
            "/gdrive/My Drive/artigo_plantas\n",
            "resnet50_features.csv\n"
          ],
          "name": "stdout"
        }
      ]
    },
    {
      "cell_type": "code",
      "metadata": {
        "id": "HA_iaUS4Mqbq",
        "colab_type": "code",
        "colab": {}
      },
      "source": [
        "#Variáveis do Dataset de Resultados\n",
        "arquivo_csv = []\n",
        "classifier = []\n",
        "accuracy = []\n",
        "std_accuracy = []\n",
        "\n",
        "# Metrics Macro\n",
        "precision_macro = []\n",
        "std_precision_macro = []\n",
        "recall_macro = []\n",
        "std_recall_macro = []\n",
        "f1_macro = []\n",
        "std_f1_macro = []\n",
        "\n",
        "# Metrics Micro\n",
        "precision_micro = []\n",
        "std_precision_micro = []\n",
        "recall_micro = []\n",
        "std_recall_micro = []\n",
        "f1_micro = []\n",
        "std_f1_micro = []\n",
        "\n",
        "# Metrics Weighted\n",
        "precision_weighted = []\n",
        "std_precision_weighted = []\n",
        "recall_weighted = []\n",
        "std_recall_weighted = []\n",
        "f1_weighted = []\n",
        "std_f1_weighted = []\n",
        "\n",
        "# Informações do PCA\n",
        "n_samples = []\n",
        "princ_compo = []\n",
        "variancia = []\n"
      ],
      "execution_count": 0,
      "outputs": []
    },
    {
      "cell_type": "code",
      "metadata": {
        "id": "n4_qPNO4OcRw",
        "colab_type": "code",
        "colab": {}
      },
      "source": [
        "def multi_clf_metrics(arq_csv):\n",
        "\n",
        "\t# Cria X (features) e y (labels)\n",
        "  especies = pd.read_csv(arq_csv, low_memory=False)\n",
        "\t\n",
        "  if arq_csv == 'plantclef2013.csv' or arq_csv == 'plantclef2013preclustering.csv':\n",
        "    X = np.array(especies.iloc[2:,0:2048])\n",
        "    y = np.array(especies.iloc[2:,2048])\n",
        "  elif arq_csv == 'resnet50_features.csv' or arq_csv == 'resnet152v2_features.csv':\n",
        "    X = np.array(especies.iloc[0:,0:2048])\n",
        "    y = np.array(especies.iloc[0:,2048])\t\t\n",
        "  # Executa o PCA\n",
        "  pca = PCA(.90)\n",
        "  principal_components = pca.fit_transform(X)\n",
        "\n",
        "  classifiers = {'SVC - (linear, ovr)': OneVsRestClassifier(svm.SVC(kernel='linear', degree=3, coef0=0.0,\n",
        "\t\t\t\t\t\t\t\t\t\t\tshrinking=True, probability=False, tol=0.001, cache_size=200,\n",
        "\t\t\t\t\t\t\t\t\t\t\tclass_weight=None, verbose=False, max_iter=-1,\n",
        "\t\t\t\t\t\t\t\t\t\t\tdecision_function_shape='ovr', random_state=None)),\n",
        "\t\t\t\t\t'SVC - (linear, ovo)': svm.SVC(kernel='linear', degree=3, coef0=0.0,\n",
        "\t\t\t\t\t\t\t\t\t\t\tshrinking=True, probability=False, tol=0.001, cache_size=200,\n",
        "\t\t\t\t\t\t\t\t\t\t\tclass_weight=None, verbose=False, max_iter=-1,\n",
        "\t\t\t\t\t\t\t\t\t\t\tdecision_function_shape='ovo', random_state=None),\n",
        "\t\t\t\t\t'SVC - (polynomial, ovr)': OneVsRestClassifier(svm.SVC(kernel='poly', degree=3, coef0=0.0,\n",
        "\t\t\t\t\t\t\t\t\t\t\tshrinking=True, probability=False, tol=0.001, cache_size=200,\n",
        "\t\t\t\t\t\t\t\t\t\t\tclass_weight=None, verbose=False, max_iter=-1,\n",
        "\t\t\t\t\t\t\t\t\t\t\tdecision_function_shape='ovr', random_state=None)),\n",
        "\t\t\t\t\t'SVC - (polynomial, ovo)': svm.SVC(kernel='poly', degree=3, coef0=0.0,\n",
        "\t\t\t\t\t\t\t\t\t\t\tshrinking=True, probability=False, tol=0.001, cache_size=200,\n",
        "\t\t\t\t\t\t\t\t\t\t\tclass_weight=None, verbose=False, max_iter=-1,\n",
        "\t\t\t\t\t\t\t\t\t\t\tdecision_function_shape='ovo', random_state=None),\n",
        "\t\t\t\t\t'SVC - (sigmoid, ovr)': OneVsRestClassifier(svm.SVC(kernel='sigmoid', degree=3,coef0=0.0,\n",
        "\t\t\t\t\t\t\t\t\t\t\tshrinking=True, probability=False, tol=0.001, cache_size=200,\n",
        "\t\t\t\t\t\t\t\t\t\t\tclass_weight=None, verbose=False, max_iter=-1,\n",
        "\t\t\t\t\t\t\t\t\t\t\tdecision_function_shape='ovr', random_state=None)),\n",
        "\t\t\t\t\t'SVC - (sigmoid, ovo)': svm.SVC(kernel='sigmoid', degree=3, coef0=0.0,\n",
        "\t\t\t\t\t\t\t\t\t\t\tshrinking=True, probability=False, tol=0.001, cache_size=200,\n",
        "\t\t\t\t\t\t\t\t\t\t\tclass_weight=None, verbose=False, max_iter=-1,\n",
        "\t\t\t\t\t\t\t\t\t\t\tdecision_function_shape='ovo', random_state=None)}\n",
        "\n",
        "  scoring = ['accuracy',\n",
        "\t\t\t\t'precision_macro','recall_macro','f1_macro',\n",
        "\t\t\t\t'precision_micro','recall_micro','f1_micro',\n",
        "\t\t\t\t'precision_weighted','recall_weighted','f1_weighted']\n",
        "  # Parametros para rodar com o grid search\n",
        "  parameters = {'C' : [0.001, 0.01, 0.1, 1, 5, 10, 25, 50, 100, 1000],'gamma':[0.0001, 0.001, 0.01, 0.1, 1]}\n",
        "  result = []\n",
        "  for name_clf, clf in classifiers.items():\n",
        "    print(f'Executando classificador \\033[1;31m{name_clf}\\033[m')\n",
        "    classifier.append(name_clf)\n",
        "    arquivo_csv.append(arq_csv[:-4])\n",
        "    # GridSearch para achar a melhor combinação de parâmetros (n_jobs=-1 para rodar em paralelo)\n",
        "    scores = GridSearchCV(clf, parameters,cv=2,return_train_score=False, scoring=scoring, n_jobs=-1)\n",
        "    scores.fit(principal_components,y)\n",
        "    result.append(scores)\n",
        "    print(scores)\n",
        "  return result"
      ],
      "execution_count": 0,
      "outputs": []
    },
    {
      "cell_type": "code",
      "metadata": {
        "id": "nGcBETNhR6qC",
        "colab_type": "code",
        "colab": {
          "base_uri": "https://localhost:8080/",
          "height": 348
        },
        "outputId": "a287670e-afbb-4293-ed11-65bbe04e9a58"
      },
      "source": [
        "result = multi_clf_metrics('resnet50_features.csv')"
      ],
      "execution_count": 8,
      "outputs": [
        {
          "output_type": "stream",
          "text": [
            "Executando classificador \u001b[1;31mSVC - (linear, ovr)\u001b[m\n"
          ],
          "name": "stdout"
        },
        {
          "output_type": "error",
          "ename": "ValueError",
          "evalue": "ignored",
          "traceback": [
            "\u001b[0;31m---------------------------------------------------------------------------\u001b[0m",
            "\u001b[0;31mValueError\u001b[0m                                Traceback (most recent call last)",
            "\u001b[0;32m<ipython-input-8-7cf6b0c13399>\u001b[0m in \u001b[0;36m<module>\u001b[0;34m()\u001b[0m\n\u001b[0;32m----> 1\u001b[0;31m \u001b[0mresult\u001b[0m \u001b[0;34m=\u001b[0m \u001b[0mmulti_clf_metrics\u001b[0m\u001b[0;34m(\u001b[0m\u001b[0;34m'resnet50_features.csv'\u001b[0m\u001b[0;34m)\u001b[0m\u001b[0;34m\u001b[0m\u001b[0;34m\u001b[0m\u001b[0m\n\u001b[0m",
            "\u001b[0;32m<ipython-input-7-688aea10f3d1>\u001b[0m in \u001b[0;36mmulti_clf_metrics\u001b[0;34m(arq_csv)\u001b[0m\n\u001b[1;32m     52\u001b[0m     \u001b[0;31m# GridSearch para achar a melhor combinação de parâmetros (n_jobs=-1 para rodar em paralelo)\u001b[0m\u001b[0;34m\u001b[0m\u001b[0;34m\u001b[0m\u001b[0;34m\u001b[0m\u001b[0m\n\u001b[1;32m     53\u001b[0m     \u001b[0mscores\u001b[0m \u001b[0;34m=\u001b[0m \u001b[0mGridSearchCV\u001b[0m\u001b[0;34m(\u001b[0m\u001b[0mclf\u001b[0m\u001b[0;34m,\u001b[0m \u001b[0mparameters\u001b[0m\u001b[0;34m,\u001b[0m\u001b[0mcv\u001b[0m\u001b[0;34m=\u001b[0m\u001b[0;36m2\u001b[0m\u001b[0;34m,\u001b[0m\u001b[0mreturn_train_score\u001b[0m\u001b[0;34m=\u001b[0m\u001b[0;32mFalse\u001b[0m\u001b[0;34m,\u001b[0m \u001b[0mscoring\u001b[0m\u001b[0;34m=\u001b[0m\u001b[0mscoring\u001b[0m\u001b[0;34m,\u001b[0m \u001b[0mn_jobs\u001b[0m\u001b[0;34m=\u001b[0m\u001b[0;34m-\u001b[0m\u001b[0;36m1\u001b[0m\u001b[0;34m)\u001b[0m\u001b[0;34m\u001b[0m\u001b[0;34m\u001b[0m\u001b[0m\n\u001b[0;32m---> 54\u001b[0;31m     \u001b[0mscores\u001b[0m\u001b[0;34m.\u001b[0m\u001b[0mfit\u001b[0m\u001b[0;34m(\u001b[0m\u001b[0mprincipal_components\u001b[0m\u001b[0;34m,\u001b[0m\u001b[0my\u001b[0m\u001b[0;34m)\u001b[0m\u001b[0;34m\u001b[0m\u001b[0;34m\u001b[0m\u001b[0m\n\u001b[0m\u001b[1;32m     55\u001b[0m     \u001b[0mresult\u001b[0m\u001b[0;34m.\u001b[0m\u001b[0mappend\u001b[0m\u001b[0;34m(\u001b[0m\u001b[0mscores\u001b[0m\u001b[0;34m)\u001b[0m\u001b[0;34m\u001b[0m\u001b[0;34m\u001b[0m\u001b[0m\n\u001b[1;32m     56\u001b[0m     \u001b[0mprint\u001b[0m\u001b[0;34m(\u001b[0m\u001b[0mscores\u001b[0m\u001b[0;34m)\u001b[0m\u001b[0;34m\u001b[0m\u001b[0;34m\u001b[0m\u001b[0m\n",
            "\u001b[0;32m/usr/local/lib/python3.6/dist-packages/sklearn/model_selection/_search.py\u001b[0m in \u001b[0;36mfit\u001b[0;34m(self, X, y, groups, **fit_params)\u001b[0m\n\u001b[1;32m    622\u001b[0m                                  \u001b[0;34m\"not needed, refit should be set to \"\u001b[0m\u001b[0;34m\u001b[0m\u001b[0;34m\u001b[0m\u001b[0m\n\u001b[1;32m    623\u001b[0m                                  \u001b[0;34m\"False explicitly. %r was passed.\"\u001b[0m\u001b[0;34m\u001b[0m\u001b[0;34m\u001b[0m\u001b[0m\n\u001b[0;32m--> 624\u001b[0;31m                                  % self.refit)\n\u001b[0m\u001b[1;32m    625\u001b[0m             \u001b[0;32melse\u001b[0m\u001b[0;34m:\u001b[0m\u001b[0;34m\u001b[0m\u001b[0;34m\u001b[0m\u001b[0m\n\u001b[1;32m    626\u001b[0m                 \u001b[0mrefit_metric\u001b[0m \u001b[0;34m=\u001b[0m \u001b[0mself\u001b[0m\u001b[0;34m.\u001b[0m\u001b[0mrefit\u001b[0m\u001b[0;34m\u001b[0m\u001b[0;34m\u001b[0m\u001b[0m\n",
            "\u001b[0;31mValueError\u001b[0m: For multi-metric scoring, the parameter refit must be set to a scorer key or a callable to refit an estimator with the best parameter setting on the whole data and make the best_* attributes available for that metric. If this is not needed, refit should be set to False explicitly. True was passed."
          ]
        }
      ]
    }
  ]
}