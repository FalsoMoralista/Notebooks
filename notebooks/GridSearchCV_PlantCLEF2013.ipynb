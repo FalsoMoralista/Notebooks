{
  "nbformat": 4,
  "nbformat_minor": 0,
  "metadata": {
    "colab": {
      "name": "GridSearchCV_PlantCLEF2013.ipynb",
      "provenance": [],
      "collapsed_sections": []
    },
    "kernelspec": {
      "name": "python3",
      "display_name": "Python 3"
    },
    "accelerator": "GPU"
  },
  "cells": [
    {
      "cell_type": "code",
      "metadata": {
        "id": "4TJRc239Mcuu",
        "colab_type": "code",
        "colab": {}
      },
      "source": [
        "from sklearn import metrics\n",
        "import pandas as pd\n",
        "import numpy as np\n",
        "import glob\n",
        "from sklearn.decomposition import PCA\n",
        "from sklearn import svm\n",
        "from sklearn.ensemble import RandomForestClassifier\n",
        "from sklearn.model_selection import cross_validate\n",
        "from sklearn.model_selection import cross_val_predict\n",
        "from sklearn.model_selection import GridSearchCV\n",
        "from sklearn.multiclass import OneVsRestClassifier\n",
        "import time\n",
        "import collections\n",
        "from sklearn.metrics import confusion_matrix\n",
        "from sklearn.metrics import classification_report\n",
        "from collections import defaultdict\n"
      ],
      "execution_count": 0,
      "outputs": []
    },
    {
      "cell_type": "code",
      "metadata": {
        "id": "Yxf9jD3dMqZm",
        "colab_type": "code",
        "outputId": "110adf41-2c4c-4853-d9d7-fb305289a859",
        "colab": {
          "base_uri": "https://localhost:8080/",
          "height": 159
        }
      },
      "source": [
        "from google.colab import drive\n",
        "drive.mount('/gdrive/')\n",
        "%cd /gdrive/My\\ Drive/artigo_plantas\n",
        "!ls"
      ],
      "execution_count": 3,
      "outputs": [
        {
          "output_type": "stream",
          "text": [
            "Go to this URL in a browser: https://accounts.google.com/o/oauth2/auth?client_id=947318989803-6bn6qk8qdgf4n4g3pfee6491hc0brc4i.apps.googleusercontent.com&redirect_uri=urn%3Aietf%3Awg%3Aoauth%3A2.0%3Aoob&scope=email%20https%3A%2F%2Fwww.googleapis.com%2Fauth%2Fdocs.test%20https%3A%2F%2Fwww.googleapis.com%2Fauth%2Fdrive%20https%3A%2F%2Fwww.googleapis.com%2Fauth%2Fdrive.photos.readonly%20https%3A%2F%2Fwww.googleapis.com%2Fauth%2Fpeopleapi.readonly&response_type=code\n",
            "\n",
            "Enter your authorization code:\n",
            "··········\n",
            "Mounted at /gdrive/\n",
            "/gdrive/My Drive/artigo_plantas\n",
            "resnet152v2_features.csv  resnet50_features.csv\n"
          ],
          "name": "stdout"
        }
      ]
    },
    {
      "cell_type": "code",
      "metadata": {
        "id": "HA_iaUS4Mqbq",
        "colab_type": "code",
        "colab": {}
      },
      "source": [
        "#Variáveis do Dataset de Resultados\n",
        "arquivo_csv = []\n",
        "classifier = []\n",
        "accuracy = []\n",
        "std_accuracy = []\n",
        "\n",
        "# Metrics Macro\n",
        "precision_macro = []\n",
        "std_precision_macro = []\n",
        "recall_macro = []\n",
        "std_recall_macro = []\n",
        "f1_macro = []\n",
        "std_f1_macro = []\n",
        "\n",
        "# Metrics Micro\n",
        "precision_micro = []\n",
        "std_precision_micro = []\n",
        "recall_micro = []\n",
        "std_recall_micro = []\n",
        "f1_micro = []\n",
        "std_f1_micro = []\n",
        "\n",
        "# Metrics Weighted\n",
        "precision_weighted = []\n",
        "std_precision_weighted = []\n",
        "recall_weighted = []\n",
        "std_recall_weighted = []\n",
        "f1_weighted = []\n",
        "std_f1_weighted = []\n",
        "\n",
        "# Informações do PCA\n",
        "n_samples = []\n",
        "princ_compo = []\n",
        "variancia = []\n"
      ],
      "execution_count": 0,
      "outputs": []
    },
    {
      "cell_type": "code",
      "metadata": {
        "id": "n4_qPNO4OcRw",
        "colab_type": "code",
        "colab": {}
      },
      "source": [
        "def multi_clf_metrics(arq_csv):\n",
        "\n",
        "\t# Cria X (features) e y (labels)\n",
        "  especies = pd.read_csv(arq_csv, low_memory=False)\n",
        "\t\n",
        "  if arq_csv == 'resnet50_features.csv' or arq_csv == 'resnet152v2_features.csv':\n",
        "    X = np.array(especies.iloc[0:,0:2048])\n",
        "    y = np.array(especies.iloc[0:,2048])\t\t\n",
        "  # Executa o PCA\n",
        "  pca = PCA(.90)\n",
        "  principal_components = pca.fit_transform(X)\n",
        "\n",
        "  classifiers = {'SVC - (linear, ovr)': OneVsRestClassifier(svm.SVC(kernel='linear', degree=3, coef0=0.0,\n",
        "\t\t\t\t\t\t\t\t\t\t\tshrinking=True, probability=False, tol=0.001, cache_size=500,\n",
        "\t\t\t\t\t\t\t\t\t\t\tclass_weight=None, verbose=False, max_iter=-1,\n",
        "\t\t\t\t\t\t\t\t\t\t\tdecision_function_shape='ovr', random_state=None), n_jobs=-1),\n",
        "\t\t\t\t\t'SVC - (linear, ovo)': svm.SVC(kernel='linear', degree=3, coef0=0.0,\n",
        "\t\t\t\t\t\t\t\t\t\t\tshrinking=True, probability=False, tol=0.001, cache_size=500,\n",
        "\t\t\t\t\t\t\t\t\t\t\tclass_weight=None, verbose=False, max_iter=-1,\n",
        "\t\t\t\t\t\t\t\t\t\t\tdecision_function_shape='ovo', random_state=None),\n",
        "\t\t\t\t\t'SVC - (polynomial, ovr)': OneVsRestClassifier(svm.SVC(kernel='poly', degree=3, coef0=0.0,\n",
        "\t\t\t\t\t\t\t\t\t\t\tshrinking=True, probability=False, tol=0.001, cache_size=500,\n",
        "\t\t\t\t\t\t\t\t\t\t\tclass_weight=None, verbose=False, max_iter=-1,\n",
        "\t\t\t\t\t\t\t\t\t\t\tdecision_function_shape='ovr', random_state=None), n_jobs=-1),\n",
        "\t\t\t\t\t'SVC - (polynomial, ovo)': svm.SVC(kernel='poly', degree=3, coef0=0.0,\n",
        "\t\t\t\t\t\t\t\t\t\t\tshrinking=True, probability=False, tol=0.001, cache_size=500,\n",
        "\t\t\t\t\t\t\t\t\t\t\tclass_weight=None, verbose=False, max_iter=-1,\n",
        "\t\t\t\t\t\t\t\t\t\t\tdecision_function_shape='ovo', random_state=None),\n",
        "\t\t\t\t\t'SVC - (sigmoid, ovr)': OneVsRestClassifier(svm.SVC(kernel='sigmoid', degree=3,coef0=0.0,\n",
        "\t\t\t\t\t\t\t\t\t\t\tshrinking=True, probability=False, tol=0.001, cache_size=500,\n",
        "\t\t\t\t\t\t\t\t\t\t\tclass_weight=None, verbose=False, max_iter=-1,\n",
        "\t\t\t\t\t\t\t\t\t\t\tdecision_function_shape='ovr', random_state=None), n_jobs=-1),\n",
        "\t\t\t\t\t'SVC - (sigmoid, ovo)': svm.SVC(kernel='sigmoid', degree=3, coef0=0.0,\n",
        "\t\t\t\t\t\t\t\t\t\t\tshrinking=True, probability=False, tol=0.001, cache_size=500,\n",
        "\t\t\t\t\t\t\t\t\t\t\tclass_weight=None, verbose=False, max_iter=-1,\n",
        "\t\t\t\t\t\t\t\t\t\t\tdecision_function_shape='ovo', random_state=None)}\n",
        "\n",
        "  scoring = ['f1_micro']\n",
        "  # Parametros para rodar com o grid search\n",
        "  parameters = {\"estimator__C\" : [0.01, 0.1, 1, 10, 100, 1000], 'estimator__gamma':[0.001, 0.01, 0.1, 1]}\n",
        "  results = []\n",
        "  for name_clf, clf in classifiers.items():\n",
        "    print(f'Executando classificador \\033[1;31m{name_clf}\\033[m')\n",
        "    scores = GridSearchCV(clf, parameters,cv=5, scoring=scoring, n_jobs=-1, refit='f1_micro', return_train_score=True)\n",
        "    result = scores.fit(principal_components,y)\n",
        "    results.append(result)\n",
        "    print('Melhor configuração: '+result.best_params_)\n",
        "  return result"
      ],
      "execution_count": 0,
      "outputs": []
    },
    {
      "cell_type": "code",
      "metadata": {
        "id": "nGcBETNhR6qC",
        "colab_type": "code",
        "outputId": "447bcb85-d937-4b18-d42c-79e4d55d9ea3",
        "colab": {
          "base_uri": "https://localhost:8080/",
          "height": 34
        }
      },
      "source": [
        "result_resnet50 = multi_clf_metrics('resnet50_features.csv')"
      ],
      "execution_count": 0,
      "outputs": [
        {
          "output_type": "stream",
          "text": [
            "Executando classificador \u001b[1;31mSVC - (linear, ovr)\u001b[m\n"
          ],
          "name": "stdout"
        }
      ]
    }
  ]
}