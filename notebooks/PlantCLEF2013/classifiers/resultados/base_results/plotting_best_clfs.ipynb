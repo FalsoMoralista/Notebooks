{
 "cells": [
  {
   "cell_type": "code",
   "execution_count": 1,
   "metadata": {},
   "outputs": [],
   "source": [
    "import pandas as pd\n",
    "import numpy as np\n",
    "import scipy as sp                                                         \n",
    "import scipy.stats as st\n",
    "from scipy.stats import sem, t\n",
    "import glob\n",
    "import matplotlib as mpl\n",
    "import matplotlib.pyplot as plt\n",
    "from matplotlib import axes\n",
    "%matplotlib inline\n",
    "import array\n",
    "import numpy\n",
    "import matplotlib.patches as mpatches\n",
    "from matplotlib import lines"
   ]
  },
  {
   "cell_type": "code",
   "execution_count": 5,
   "metadata": {},
   "outputs": [
    {
     "ename": "IndexError",
     "evalue": "list index out of range",
     "output_type": "error",
     "traceback": [
      "\u001b[0;31m---------------------------------------------------------------------------\u001b[0m",
      "\u001b[0;31mIndexError\u001b[0m                                Traceback (most recent call last)",
      "\u001b[0;32m<ipython-input-5-ba781955a795>\u001b[0m in \u001b[0;36m<module>\u001b[0;34m\u001b[0m\n\u001b[1;32m     19\u001b[0m         \u001b[0mplantclefori\u001b[0m \u001b[0;34m=\u001b[0m \u001b[0marquivo\u001b[0m\u001b[0;34m.\u001b[0m\u001b[0mloc\u001b[0m\u001b[0;34m[\u001b[0m\u001b[0;36m0\u001b[0m\u001b[0;34m,\u001b[0m \u001b[0mmetrica\u001b[0m\u001b[0;34m]\u001b[0m\u001b[0;34m\u001b[0m\u001b[0;34m\u001b[0m\u001b[0m\n\u001b[1;32m     20\u001b[0m         \u001b[0mdp\u001b[0m \u001b[0;34m=\u001b[0m \u001b[0marquivo\u001b[0m\u001b[0;34m.\u001b[0m\u001b[0mloc\u001b[0m\u001b[0;34m[\u001b[0m\u001b[0;36m0\u001b[0m\u001b[0;34m,\u001b[0m \u001b[0merrors\u001b[0m\u001b[0;34m[\u001b[0m\u001b[0mi\u001b[0m\u001b[0;34m]\u001b[0m\u001b[0;34m]\u001b[0m\u001b[0;34m\u001b[0m\u001b[0;34m\u001b[0m\u001b[0m\n\u001b[0;32m---> 21\u001b[0;31m         \u001b[0mnome_config\u001b[0m\u001b[0;34m.\u001b[0m\u001b[0mappend\u001b[0m\u001b[0;34m(\u001b[0m\u001b[0mcsv\u001b[0m\u001b[0;34m[\u001b[0m\u001b[0;36m0\u001b[0m\u001b[0;34m]\u001b[0m\u001b[0;34m[\u001b[0m\u001b[0mlen\u001b[0m\u001b[0;34m(\u001b[0m\u001b[0mnetwork\u001b[0m\u001b[0;34m)\u001b[0m\u001b[0;34m+\u001b[0m\u001b[0;36m1\u001b[0m\u001b[0;34m:\u001b[0m\u001b[0;34m-\u001b[0m\u001b[0;36m4\u001b[0m\u001b[0;34m]\u001b[0m\u001b[0;34m)\u001b[0m\u001b[0;34m\u001b[0m\u001b[0;34m\u001b[0m\u001b[0m\n\u001b[0m\u001b[1;32m     22\u001b[0m         \u001b[0mc_interval\u001b[0m \u001b[0;34m=\u001b[0m \u001b[0mst\u001b[0m\u001b[0;34m.\u001b[0m\u001b[0mt\u001b[0m\u001b[0;34m.\u001b[0m\u001b[0minterval\u001b[0m\u001b[0;34m(\u001b[0m\u001b[0;36m0.95\u001b[0m\u001b[0;34m,\u001b[0m \u001b[0;36m9\u001b[0m\u001b[0;34m,\u001b[0m \u001b[0mplantclefori\u001b[0m\u001b[0;34m,\u001b[0m \u001b[0mdp\u001b[0m\u001b[0;34m)\u001b[0m\u001b[0;34m\u001b[0m\u001b[0;34m\u001b[0m\u001b[0m\n\u001b[1;32m     23\u001b[0m         \u001b[0mup_lim\u001b[0m \u001b[0;34m=\u001b[0m \u001b[0mc_interval\u001b[0m\u001b[0;34m[\u001b[0m\u001b[0;36m1\u001b[0m\u001b[0;34m]\u001b[0m\u001b[0;34m\u001b[0m\u001b[0;34m\u001b[0m\u001b[0m\n",
      "\u001b[0;31mIndexError\u001b[0m: list index out of range"
     ]
    }
   ],
   "source": [
    "metricas = ['Accuracy','F1 Macro','F1 Micro']\n",
    "medidas_pt = ['Acurácia', 'F1 Macro', 'F1 Micro']\n",
    "errors = ['D.P. - Acurácia','D.P - F1 Macro','D.P - F1 Micro']\n",
    "colors = ['deepskyblue','darkorchid', 'orange','lightseagreen','mediumblue','burlywood']\n",
    "folders = ['resnet50/SVM - (polynomial, ovr)', 'resnet152v2/SVM - (polynomial, ovr)', 'nasnetlarge/SVM - (linear, ovr)', 'inceptionv3/SVM - (linear, ovr)', 'vgg16/SVM - (polynomial, ovr)','vgg19/SVM - (polynomial, ovr)']\n",
    "names = ['Resnet50', 'Resnet152_V2', 'NASNetLarge', 'InceptionV3', 'VGG16','VGG19']\n",
    "\n",
    "i = 0\n",
    "for metrica in metricas:\n",
    "\n",
    "    j = 0\n",
    "    nome_config = []\n",
    "    medidas_baseori = []\n",
    "    yerrors = []\n",
    "    for network in folders:\n",
    "        \n",
    "#        csv = glob.glob(network+'/'+'*.csv')\n",
    "        arquivo = pd.read_csv(network+'.csv')\n",
    "        plantclefori = arquivo.loc[0, metrica]\n",
    "        dp = arquivo.loc[0, errors[i]]\n",
    "        nome_config.append(csv[0][len(network)+1:-4])\n",
    "        c_interval = st.t.interval(0.95, 9, plantclefori, dp)\n",
    "        up_lim = c_interval[1]\n",
    "        down_lim = c_interval[0]\n",
    "        yerrors.append(up_lim-down_lim)\n",
    "        medidas_baseori.append(plantclefori)\n",
    "    \n",
    "        # Guarda o menor e o maior valor para ajuste automático da escala do gráfico.\n",
    "    medidas = medidas_baseori\n",
    "    escala_menor = np.min(medidas) - 0.1008209\n",
    "    escala_maior = np.max(medidas) + 0.075\n",
    "    if metrica == 'F1 Macro':\n",
    "        escala_menor = np.min(medidas) - 0.05\n",
    "        escala_maior = np.max(medidas) + 0.07\n",
    "    \n",
    "    # Configura a posição das barras\n",
    "    bar_larg = 0.6\n",
    "    base1 = np.arange(len(nome_config))+0.6\n",
    "    base2 = [x + bar_larg for x in base1]\n",
    "    #plt.title('Comparativo das melhores configurações paramétricas')\n",
    "    plt.grid(zorder=0)\n",
    "    plt.xlabel('Classificadores')\n",
    "    plt.ylabel('%s'%medidas_pt[i])\n",
    "    plt.bar(base1, medidas_baseori, width = bar_larg, label=names[0],color = colors, zorder=3)\n",
    "    errbar = plt.errorbar(base1, medidas_baseori, yerr= yerrors, label='Intervalo de Confiança', color = 'black', fmt= 'none', zorder=4)    \n",
    "    resnet50 = mpatches.Patch(color=colors[0], label=names[0])    \n",
    "    resnet152v2  = mpatches.Patch(color=colors[1], label=names[1])\n",
    "    nasnetlarge = mpatches.Patch(color=colors[2], label=names[2]) \n",
    "    inceptionv3 = mpatches.Patch(color=colors[3], label=names[3])\n",
    "    vgg16 = mpatches.Patch(color=colors[4], label=names[4])\n",
    "    vgg19 = mpatches.Patch(color=colors[5], label=names[5])\n",
    "    plt.xticks([r + bar_larg for r in range(len(nome_config))], nome_config, rotation=-45, ha=\"left\", rotation_mode=\"anchor\")\n",
    "    plt.ylim([escala_menor, escala_maior]) # Ajusta a escala do gráfico no eixo Y\n",
    "    plt.legend(handles=[resnet50, resnet152v2, nasnetlarge, inceptionv3, vgg16, vgg19, errbar], fontsize='xx-small', loc = 1)\n",
    "    plt.tight_layout()\n",
    "#    plt.set_size_inches(18.5, 10.5)\n",
    "    plt.savefig(medidas_pt[i]+'.png',dpi=150)\n",
    "    plt.show()\n",
    "    plt.clf()\n",
    "    i = i + 1    \n",
    "    "
   ]
  },
  {
   "cell_type": "code",
   "execution_count": null,
   "metadata": {},
   "outputs": [],
   "source": []
  },
  {
   "cell_type": "code",
   "execution_count": null,
   "metadata": {},
   "outputs": [],
   "source": []
  }
 ],
 "metadata": {
  "kernelspec": {
   "display_name": "Python 3",
   "language": "python",
   "name": "python3"
  },
  "language_info": {
   "codemirror_mode": {
    "name": "ipython",
    "version": 3
   },
   "file_extension": ".py",
   "mimetype": "text/x-python",
   "name": "python",
   "nbconvert_exporter": "python",
   "pygments_lexer": "ipython3",
   "version": "3.7.3"
  }
 },
 "nbformat": 4,
 "nbformat_minor": 2
}
