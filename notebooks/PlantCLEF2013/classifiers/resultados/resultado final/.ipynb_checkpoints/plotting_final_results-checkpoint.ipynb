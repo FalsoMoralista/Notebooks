{
 "cells": [
  {
   "cell_type": "code",
   "execution_count": 4,
   "metadata": {},
   "outputs": [],
   "source": [
    "import pandas as pd\n",
    "import numpy as np\n",
    "import scipy as sp                                                         \n",
    "import scipy.stats as st\n",
    "from scipy.stats import sem, t\n",
    "import glob\n",
    "import matplotlib as mpl\n",
    "import matplotlib.pyplot as plt\n",
    "from matplotlib import axes\n",
    "%matplotlib inline\n",
    "import array\n",
    "import numpy\n",
    "import matplotlib.patches as mpatches\n",
    "from matplotlib import lines"
   ]
  },
  {
   "cell_type": "code",
   "execution_count": 23,
   "metadata": {},
   "outputs": [
    {
     "ename": "AttributeError",
     "evalue": "module 'matplotlib.pyplot' has no attribute 'set_size_inches'",
     "output_type": "error",
     "traceback": [
      "\u001b[0;31m---------------------------------------------------------------------------\u001b[0m",
      "\u001b[0;31mAttributeError\u001b[0m                            Traceback (most recent call last)",
      "\u001b[0;32m<ipython-input-23-21c2f8ad0ecc>\u001b[0m in \u001b[0;36m<module>\u001b[0;34m\u001b[0m\n\u001b[1;32m     53\u001b[0m     \u001b[0mplt\u001b[0m\u001b[0;34m.\u001b[0m\u001b[0mlegend\u001b[0m\u001b[0;34m(\u001b[0m\u001b[0mhandles\u001b[0m\u001b[0;34m=\u001b[0m\u001b[0;34m[\u001b[0m\u001b[0mresnet50\u001b[0m\u001b[0;34m,\u001b[0m \u001b[0mresnet152v2\u001b[0m\u001b[0;34m,\u001b[0m \u001b[0mnasnetlarge\u001b[0m\u001b[0;34m,\u001b[0m \u001b[0minceptionv3\u001b[0m\u001b[0;34m,\u001b[0m \u001b[0mvgg16\u001b[0m\u001b[0;34m,\u001b[0m \u001b[0mvgg19\u001b[0m\u001b[0;34m,\u001b[0m \u001b[0merrbar\u001b[0m\u001b[0;34m]\u001b[0m\u001b[0;34m,\u001b[0m \u001b[0mfontsize\u001b[0m\u001b[0;34m=\u001b[0m\u001b[0;34m'xx-small'\u001b[0m\u001b[0;34m,\u001b[0m \u001b[0mloc\u001b[0m \u001b[0;34m=\u001b[0m \u001b[0;36m1\u001b[0m\u001b[0;34m)\u001b[0m\u001b[0;34m\u001b[0m\u001b[0;34m\u001b[0m\u001b[0m\n\u001b[1;32m     54\u001b[0m     \u001b[0mplt\u001b[0m\u001b[0;34m.\u001b[0m\u001b[0mtight_layout\u001b[0m\u001b[0;34m(\u001b[0m\u001b[0;34m)\u001b[0m\u001b[0;34m\u001b[0m\u001b[0;34m\u001b[0m\u001b[0m\n\u001b[0;32m---> 55\u001b[0;31m     \u001b[0mplt\u001b[0m\u001b[0;34m.\u001b[0m\u001b[0mset_size_inches\u001b[0m\u001b[0;34m(\u001b[0m\u001b[0;36m18.5\u001b[0m\u001b[0;34m,\u001b[0m \u001b[0;36m10.5\u001b[0m\u001b[0;34m)\u001b[0m\u001b[0;34m\u001b[0m\u001b[0;34m\u001b[0m\u001b[0m\n\u001b[0m\u001b[1;32m     56\u001b[0m     \u001b[0mplt\u001b[0m\u001b[0;34m.\u001b[0m\u001b[0msavefig\u001b[0m\u001b[0;34m(\u001b[0m\u001b[0mmedidas_pt\u001b[0m\u001b[0;34m[\u001b[0m\u001b[0mi\u001b[0m\u001b[0;34m]\u001b[0m\u001b[0;34m+\u001b[0m\u001b[0;34m'.png'\u001b[0m\u001b[0;34m,\u001b[0m\u001b[0mdpi\u001b[0m\u001b[0;34m=\u001b[0m\u001b[0;36m150\u001b[0m\u001b[0;34m)\u001b[0m\u001b[0;34m\u001b[0m\u001b[0;34m\u001b[0m\u001b[0m\n\u001b[1;32m     57\u001b[0m     \u001b[0mplt\u001b[0m\u001b[0;34m.\u001b[0m\u001b[0mshow\u001b[0m\u001b[0;34m(\u001b[0m\u001b[0;34m)\u001b[0m\u001b[0;34m\u001b[0m\u001b[0;34m\u001b[0m\u001b[0m\n",
      "\u001b[0;31mAttributeError\u001b[0m: module 'matplotlib.pyplot' has no attribute 'set_size_inches'"
     ]
    },
    {
     "data": {
      "image/png": "[encoded data removed]",
      "text/plain": [
       "<Figure size 432x288 with 1 Axes>"
      ]
     },
     "metadata": {
      "needs_background": "light"
     },
     "output_type": "display_data"
    }
   ],
   "source": [
    "metricas = ['Accuracy','F1 Macro','F1 Micro']\n",
    "medidas_pt = ['Acurácia', 'F1 Macro', 'F1 Micro']\n",
    "errors = ['D.P. - Acurácia','D.P - F1 Macro','D.P - F1 Micro']\n",
    "colors = ['deepskyblue','darkorchid', 'orange','lightseagreen','darkolivegreen','burlywood']\n",
    "folders = ['resnet50', 'resnet152v2', 'nasnetlarge', 'inceptionv3', 'vgg16','vgg19']\n",
    "names = ['Resnet50', 'Resnet152_V2', 'NASNetLarge', 'InceptionV3', 'VGG16','VGG19']\n",
    "\n",
    "i = 0\n",
    "for metrica in metricas:\n",
    "\n",
    "    j = 0\n",
    "    nome_config = []\n",
    "    medidas_baseori = []\n",
    "    yerrors = []\n",
    "    for network in folders:\n",
    "        csv = glob.glob(network+'/'+'*.csv')\n",
    "        arquivo = pd.read_csv(csv[0])\n",
    "        plantclefori = arquivo.loc[0, metrica]\n",
    "        dp = arquivo.loc[0, errors[i]]\n",
    "        nome_config.append(csv[0][len(network)+1:-4])\n",
    "        c_interval = st.t.interval(0.95, 9, plantclefori, dp)\n",
    "        up_lim = c_interval[1]\n",
    "        down_lim = c_interval[0]\n",
    "        yerrors.append(up_lim-down_lim)\n",
    "        medidas_baseori.append(plantclefori)\n",
    "    \n",
    "        # Guarda o menor e o maior valor para ajuste automático da escala do gráfico.\n",
    "    medidas = medidas_baseori\n",
    "    escala_menor = np.min(medidas) - 0.1\n",
    "    escala_maior = np.max(medidas) + 0.5\n",
    "    if metrica == 'F1 Macro':\n",
    "        escala_menor = np.min(medidas) - 0.05\n",
    "        escala_maior = np.max(medidas) + 0.06\n",
    "    \n",
    "    # Configura a posição das barras\n",
    "    bar_larg = 0.6\n",
    "    base1 = np.arange(len(nome_config))+0.6\n",
    "    base2 = [x + bar_larg for x in base1]\n",
    "    #plt.title('Comparativo das melhores configurações paramétricas')\n",
    "    plt.grid(axis= 'y', zorder=0)\n",
    "    plt.xlabel('Classificadores')\n",
    "    plt.ylabel('%s'%medidas_pt[i])\n",
    "    plt.bar(base1, medidas_baseori, width = bar_larg, label=names[0],color = colors, zorder=3)\n",
    "    errbar = plt.errorbar(base1, medidas_baseori, yerr= yerrors, label='Intervalo de Confiança', color = 'black', fmt= 'none', zorder=4)    \n",
    "    resnet50 = mpatches.Patch(color=colors[0], label=names[0])    \n",
    "    resnet152v2  = mpatches.Patch(color=colors[1], label=names[1])\n",
    "    nasnetlarge = mpatches.Patch(color=colors[2], label=names[2]) \n",
    "    inceptionv3 = mpatches.Patch(color=colors[3], label=names[3])\n",
    "    vgg16 = mpatches.Patch(color=colors[4], label=names[4])\n",
    "    vgg19 = mpatches.Patch(color=colors[5], label=names[5])\n",
    "    plt.xticks([r + bar_larg for r in range(len(nome_config))], nome_config, rotation=-45, ha=\"left\", rotation_mode=\"anchor\")\n",
    "    plt.ylim([escala_menor, escala_maior]) # Ajusta a escala do gráfico no eixo Y\n",
    "    plt.legend(handles=[resnet50, resnet152v2, nasnetlarge, inceptionv3, vgg16, vgg19, errbar], fontsize='xx-small', loc = 1)\n",
    "    plt.tight_layout()\n",
    "    plt.set_size_inches(18.5, 10.5)\n",
    "    plt.savefig(medidas_pt[i]+'.png',dpi=150)\n",
    "    plt.show()\n",
    "    plt.clf()\n",
    "    i = i + 1    \n",
    "    "
   ]
  },
  {
   "cell_type": "code",
   "execution_count": null,
   "metadata": {},
   "outputs": [],
   "source": []
  },
  {
   "cell_type": "code",
   "execution_count": null,
   "metadata": {},
   "outputs": [],
   "source": []
  }
 ],
 "metadata": {
  "kernelspec": {
   "display_name": "Python 3",
   "language": "python",
   "name": "python3"
  },
  "language_info": {
   "codemirror_mode": {
    "name": "ipython",
    "version": 3
   },
   "file_extension": ".py",
   "mimetype": "text/x-python",
   "name": "python",
   "nbconvert_exporter": "python",
   "pygments_lexer": "ipython3",
   "version": "3.7.3"
  }
 },
 "nbformat": 4,
 "nbformat_minor": 2
}
