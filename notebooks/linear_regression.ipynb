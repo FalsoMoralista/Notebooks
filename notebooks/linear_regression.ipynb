{
  "nbformat": 4,
  "nbformat_minor": 0,
  "metadata": {
    "colab": {
      "name": "linear_regression.ipynb",
      "provenance": []
    },
    "kernelspec": {
      "name": "python3",
      "display_name": "Python 3"
    },
    "accelerator": "GPU"
  },
  "cells": [
    {
      "cell_type": "code",
      "metadata": {
        "id": "p86mJcuehAYv",
        "colab_type": "code",
        "colab": {
          "base_uri": "https://localhost:8080/",
          "height": 69
        },
        "outputId": "4c062ec2-a9f5-48c7-afd8-975051cfb048"
      },
      "source": [
        "!pip install -q tensorflow==2.0.0-alpha0"
      ],
      "execution_count": 1,
      "outputs": [
        {
          "output_type": "stream",
          "text": [
            "\u001b[K     |████████████████████████████████| 79.9MB 1.3MB/s \n",
            "\u001b[K     |████████████████████████████████| 3.0MB 37.4MB/s \n",
            "\u001b[K     |████████████████████████████████| 419kB 49.5MB/s \n",
            "\u001b[?25h"
          ],
          "name": "stdout"
        }
      ]
    },
    {
      "cell_type": "code",
      "metadata": {
        "id": "syVScWIFhPhl",
        "colab_type": "code",
        "colab": {}
      },
      "source": [
        "import matplotlib.pyplot as plt\n",
        "import tensorflow as tf\n",
        "from tensorflow.keras import Model\n"
      ],
      "execution_count": 0,
      "outputs": []
    },
    {
      "cell_type": "code",
      "metadata": {
        "id": "l3y_G8VKhots",
        "colab_type": "code",
        "colab": {}
      },
      "source": [
        "def generate_dataset(m = 0.1, b = 0.4, n = 100):\n",
        "  x = tf.random.uniform(shape=(n,))\n",
        "  noise = tf.random.normal(shape=(len(x),),stddev=0.01)\n",
        "  y = m * x + b + noise\n",
        "  return x, y"
      ],
      "execution_count": 0,
      "outputs": []
    },
    {
      "cell_type": "code",
      "metadata": {
        "id": "mxU0SFRXirz6",
        "colab_type": "code",
        "colab": {}
      },
      "source": [
        "x_train, y_train = generate_dataset()"
      ],
      "execution_count": 0,
      "outputs": []
    },
    {
      "cell_type": "code",
      "metadata": {
        "id": "JGKD3_UKi7GF",
        "colab_type": "code",
        "colab": {
          "base_uri": "https://localhost:8080/",
          "height": 286
        },
        "outputId": "8cf6ea25-6c43-48a5-c2b6-72463d05ee61"
      },
      "source": [
        "plt.plot(x_train, y_train, 'b.')"
      ],
      "execution_count": 29,
      "outputs": [
        {
          "output_type": "execute_result",
          "data": {
            "text/plain": [
              "[<matplotlib.lines.Line2D at 0x7f223d038550>]"
            ]
          },
          "metadata": {
            "tags": []
          },
          "execution_count": 29
        },
        {
          "output_type": "display_data",
          "data": {
            "image/png": "[encoded data removed]",
            "text/plain": [
              "<Figure size 432x288 with 1 Axes>"
            ]
          },
          "metadata": {
            "tags": []
          }
        }
      ]
    },
    {
      "cell_type": "code",
      "metadata": {
        "id": "CNXurC8ni7Io",
        "colab_type": "code",
        "colab": {}
      },
      "source": [
        "m = tf.Variable(0.)\n",
        "b = tf.Variable(0.)"
      ],
      "execution_count": 0,
      "outputs": []
    },
    {
      "cell_type": "code",
      "metadata": {
        "id": "CVi1JHg9jRHQ",
        "colab_type": "code",
        "colab": {}
      },
      "source": [
        "def predict(x):\n",
        "  y = m * x + b\n",
        "  return y"
      ],
      "execution_count": 0,
      "outputs": []
    },
    {
      "cell_type": "code",
      "metadata": {
        "id": "VkjZSjrZjQ7g",
        "colab_type": "code",
        "colab": {}
      },
      "source": [
        "def squared_error(y_pred, y_true):\n",
        "  return tf.reduce_mean(tf.square(y_pred - y_true))"
      ],
      "execution_count": 0,
      "outputs": []
    },
    {
      "cell_type": "code",
      "metadata": {
        "id": "lLcTbH7LjQwX",
        "colab_type": "code",
        "colab": {
          "base_uri": "https://localhost:8080/",
          "height": 34
        },
        "outputId": "71152bcf-4209-4c46-dc5d-3877908765be"
      },
      "source": [
        "loss = squared_error(predict(x_train), y_train)\n",
        "print('Starting Loss: ', loss.numpy())"
      ],
      "execution_count": 32,
      "outputs": [
        {
          "output_type": "stream",
          "text": [
            "Starting Loss:  0.20423822\n"
          ],
          "name": "stdout"
        }
      ]
    },
    {
      "cell_type": "code",
      "metadata": {
        "id": "t_Jvgkl6lWTN",
        "colab_type": "code",
        "colab": {
          "base_uri": "https://localhost:8080/",
          "height": 885
        },
        "outputId": "8961b895-34c4-471f-f5aa-809fdf87d927"
      },
      "source": [
        "learning_rate = 0.001\n",
        "steps = 1000\n",
        "\n",
        "for i in range(steps):\n",
        "  with tf.GradientTape() as tape:\n",
        "    predictions = predict(x_train)\n",
        "    loss = squared_error(predictions, y_train)\n",
        "    \n",
        "  gradients = tape.gradient(loss, [m,b])\n",
        "  \n",
        "  m.assign_sub(gradients[0] * learning_rate)\n",
        "  b.assign_sub(gradients[1] * learning_rate)\n",
        "  if i % 20 == 0:\n",
        "    print('Step %d, Loss %f'% (i, loss.numpy()))\n",
        "    "
      ],
      "execution_count": 41,
      "outputs": [
        {
          "output_type": "stream",
          "text": [
            "Step 0, Loss 0.000104\n",
            "Step 20, Loss 0.000104\n",
            "Step 40, Loss 0.000104\n",
            "Step 60, Loss 0.000104\n",
            "Step 80, Loss 0.000104\n",
            "Step 100, Loss 0.000104\n",
            "Step 120, Loss 0.000104\n",
            "Step 140, Loss 0.000104\n",
            "Step 160, Loss 0.000104\n",
            "Step 180, Loss 0.000104\n",
            "Step 200, Loss 0.000104\n",
            "Step 220, Loss 0.000104\n",
            "Step 240, Loss 0.000104\n",
            "Step 260, Loss 0.000104\n",
            "Step 280, Loss 0.000104\n",
            "Step 300, Loss 0.000104\n",
            "Step 320, Loss 0.000104\n",
            "Step 340, Loss 0.000104\n",
            "Step 360, Loss 0.000104\n",
            "Step 380, Loss 0.000104\n",
            "Step 400, Loss 0.000104\n",
            "Step 420, Loss 0.000104\n",
            "Step 440, Loss 0.000104\n",
            "Step 460, Loss 0.000104\n",
            "Step 480, Loss 0.000104\n",
            "Step 500, Loss 0.000104\n",
            "Step 520, Loss 0.000104\n",
            "Step 540, Loss 0.000104\n",
            "Step 560, Loss 0.000104\n",
            "Step 580, Loss 0.000104\n",
            "Step 600, Loss 0.000104\n",
            "Step 620, Loss 0.000104\n",
            "Step 640, Loss 0.000104\n",
            "Step 660, Loss 0.000104\n",
            "Step 680, Loss 0.000104\n",
            "Step 700, Loss 0.000104\n",
            "Step 720, Loss 0.000104\n",
            "Step 740, Loss 0.000104\n",
            "Step 760, Loss 0.000104\n",
            "Step 780, Loss 0.000104\n",
            "Step 800, Loss 0.000104\n",
            "Step 820, Loss 0.000104\n",
            "Step 840, Loss 0.000104\n",
            "Step 860, Loss 0.000103\n",
            "Step 880, Loss 0.000103\n",
            "Step 900, Loss 0.000103\n",
            "Step 920, Loss 0.000103\n",
            "Step 940, Loss 0.000103\n",
            "Step 960, Loss 0.000103\n",
            "Step 980, Loss 0.000103\n"
          ],
          "name": "stdout"
        }
      ]
    },
    {
      "cell_type": "code",
      "metadata": {
        "id": "hZ4LWhwglWL7",
        "colab_type": "code",
        "colab": {
          "base_uri": "https://localhost:8080/",
          "height": 286
        },
        "outputId": "4afd68b2-453f-4c26-be07-68f01f9d1457"
      },
      "source": [
        "plt.plot(x_train, y_train, 'b.')\n",
        "plt.plot(x_train, predict(x_train))"
      ],
      "execution_count": 42,
      "outputs": [
        {
          "output_type": "execute_result",
          "data": {
            "text/plain": [
              "[<matplotlib.lines.Line2D at 0x7f223d02d198>]"
            ]
          },
          "metadata": {
            "tags": []
          },
          "execution_count": 42
        },
        {
          "output_type": "display_data",
          "data": {
            "image/png": "[encoded data removed]",
            "text/plain": [
              "<Figure size 432x288 with 1 Axes>"
            ]
          },
          "metadata": {
            "tags": []
          }
        }
      ]
    },
    {
      "cell_type": "code",
      "metadata": {
        "id": "9XEWmUl-lWB5",
        "colab_type": "code",
        "colab": {
          "base_uri": "https://localhost:8080/",
          "height": 34
        },
        "outputId": "5e2bf21e-7f44-4b69-85df-805a07aebdec"
      },
      "source": [
        ""
      ],
      "execution_count": 44,
      "outputs": [
        {
          "output_type": "stream",
          "text": [
            "sample_data\n"
          ],
          "name": "stdout"
        }
      ]
    }
  ]
}