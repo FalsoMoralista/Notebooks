{
 "cells": [
  {
   "cell_type": "code",
   "execution_count": null,
   "metadata": {},
   "outputs": [],
   "source": [
    "import pandas as pd\n",
    "import numpy as np\n",
    "import scipy as sp                                                         \n",
    "import scipy.stats as st\n",
    "from scipy.stats import sem, t\n",
    "import glob\n",
    "import matplotlib as mpl\n",
    "import matplotlib.pyplot as plt\n",
    "from matplotlib import axes\n",
    "%matplotlib inline\n",
    "import array\n",
    "import numpy\n"
   ]
  },
  {
   "cell_type": "code",
   "execution_count": null,
   "metadata": {},
   "outputs": [],
   "source": [
    "metricas = ['Accuracy','F1 Macro','F1 Micro']\n",
    "medidas_pt = ['Accuracy', 'Macro-F1', 'Micro-F1']\n",
    "errors = ['D.P. - Acurácia','D.P - F1 Macro','D.P - F1 Micro']\n",
    "i = 0\n",
    "for metrica in metricas:\n",
    "    nome_config = []\n",
    "    medidas_baseori = []\n",
    "    yerrors = []\n",
    "    for csv in sorted(glob.glob('*.csv')):\n",
    "        arquivo = pd.read_csv(csv)\n",
    "        plantclefori = arquivo.loc[0, metrica]\n",
    "        dp = arquivo.loc[0, errors[i]]\n",
    "        nome_config.append(csv[:-4])\n",
    "        c_interval = st.t.interval(0.95, 9, plantclefori, dp)\n",
    "        up_lim = c_interval[1]\n",
    "        down_lim = c_interval[0]\n",
    "        yerrors.append((up_lim-down_lim)/2)\n",
    "        medidas_baseori.append(plantclefori)\n",
    "    \n",
    "    # Guarda o menor e o maior valor para ajuste automático da escala do gráfico.\n",
    "    medidas = medidas_baseori\n",
    "    escala_menor = np.min(medidas) - 0.1\n",
    "    escala_maior = np.max(medidas) + 0.142\n",
    "    if metrica == 'F1 Macro':\n",
    "        escala_menor = np.min(medidas) - 0.05\n",
    "        escala_maior = np.max(medidas) + 0.262\n",
    "    \n",
    "    # Configura a posição das barras\n",
    "    bar_larg = 0.6\n",
    "    base1 = np.arange(len(nome_config))+0.6\n",
    "    base2 = [x + bar_larg for x in base1]\n",
    "    #plt.xlabel('Classificadores')\n",
    "    plt.ylabel('%s'%medidas_pt[i])\n",
    "    plt.grid(zorder=0)\n",
    "    plt.bar(base1, medidas_baseori, width = bar_larg, label = 'VGG19', color = 'lightseagreen', zorder =3)\n",
    "    errbar = plt.errorbar(base1, medidas_baseori, yerr= yerrors, label='Confidence Interval', color = 'black', fmt= 'none', zorder=4)    \n",
    "    plt.xticks([r + bar_larg for r in range(len(nome_config))], nome_config, rotation=-40, ha=\"left\", rotation_mode=\"anchor\")\n",
    "    plt.ylim([escala_menor, escala_maior]) # Ajusta a escala do gráfico no eixo Y\n",
    "    plt.legend(fontsize = 'x-small')\n",
    "    plt.tight_layout()\n",
    "    plt.savefig(medidas_pt[i]+'.png',dpi=150)\n",
    "    plt.show()\n",
    "    plt.clf()\n",
    "    i = i + 1    "
   ]
  },
  {
   "cell_type": "code",
   "execution_count": null,
   "metadata": {},
   "outputs": [],
   "source": []
  },
  {
   "cell_type": "code",
   "execution_count": null,
   "metadata": {},
   "outputs": [],
   "source": []
  }
 ],
 "metadata": {
  "kernelspec": {
   "display_name": "Python 3",
   "language": "python",
   "name": "python3"
  },
  "language_info": {
   "codemirror_mode": {
    "name": "ipython",
    "version": 3
   },
   "file_extension": ".py",
   "mimetype": "text/x-python",
   "name": "python",
   "nbconvert_exporter": "python",
   "pygments_lexer": "ipython3",
   "version": "3.7.3"
  }
 },
 "nbformat": 4,
 "nbformat_minor": 2
}
